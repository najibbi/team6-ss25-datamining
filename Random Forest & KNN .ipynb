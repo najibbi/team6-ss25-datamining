{
 "cells": [
  {
   "cell_type": "code",
   "execution_count": null,
   "id": "36ef49fa",
   "metadata": {},
   "outputs": [],
   "source": [
    "import pandas as pd\n",
    "import matplotlib.pyplot as plt\n",
    "import seaborn as sns\n",
    "import numpy as np\n",
    "from sklearn.preprocessing import LabelEncoder, StandardScaler\n",
    "from sklearn.model_selection import train_test_split\n",
    "from sklearn.metrics import classification_report, roc_auc_score, confusion_matrix\n",
    "from sklearn.model_selection import cross_val_score\n",
    "from sklearn.ensemble import RandomForestClassifier\n",
    "from imblearn.over_sampling import SMOTE\n"
   ]
  },
  {
   "cell_type": "code",
   "execution_count": null,
   "id": "190f1ddb",
   "metadata": {},
   "outputs": [],
   "source": [
    "df = pd.read_csv(\"diabetes_prediction_dataset.csv\")"
   ]
  },
  {
   "cell_type": "code",
   "execution_count": null,
   "id": "7d492b75",
   "metadata": {},
   "outputs": [],
   "source": [
    "print(df.shape)       \n",
    "print(df.dtypes)        \n",
    "print(df.head()) "
   ]
  },
  {
   "cell_type": "code",
   "execution_count": null,
   "id": "4392042f",
   "metadata": {},
   "outputs": [],
   "source": [
    "# Check for the Duplicates\n",
    "n_dup = df.duplicated().sum()\n",
    "print(\"Duplicated Number:\", n_dup)\n",
    "\n",
    "# Check for the missing value\n",
    "miss_cnt = df.isna().sum()\n",
    "miss_pct = (df.isna().mean() * 100).round(2)\n",
    "print(\"\\nNumber of missing value:\\n\", miss_cnt)\n",
    "print(\"\\nMissing value proportion:\\n\", miss_pct)\n",
    "\n",
    "# 3. Check for the distributions:\n",
    "print(\"\\nGender distribution:\\n\", df['gender'].value_counts(dropna=False))\n",
    "print(\"\\nSmoking_history distribution:\\n\", df['smoking_history'].value_counts(dropna=False))\n",
    "\n",
    "print(\"\\nage: \\n\", df['age'].describe())\n",
    "print(\"\\nbmi: \\n\", df['bmi'].describe())\n",
    "print(\"\\nHbA1c_level: \\n\", df['HbA1c_level'].describe())\n",
    "print(\"\\nblood_glucose_level: \\n\", df['blood_glucose_level'].describe())\n"
   ]
  },
  {
   "cell_type": "code",
   "execution_count": null,
   "id": "0a61a56f",
   "metadata": {},
   "outputs": [],
   "source": [
    "#1.1 eliminate duplicates\n",
    "df = df.drop_duplicates()\n",
    "\n",
    "#1.2 remove gender = other\n",
    "df = df[df['gender'] != 'Other'].reset_index(drop=True)\n",
    "\n",
    "gender_encoder = LabelEncoder()\n",
    "df['gender'] = gender_encoder.fit_transform(df['gender'])\n",
    "\n",
    "#1.2 replace Smoking_History: No Info to NAN\n",
    "df['smoking_history'] = df['smoking_history'].replace('No Info', np.nan)\n",
    "\n",
    "#grouping\n",
    "df['smoking_history'] = df['smoking_history'].replace({ 'ever':    'former', 'not current': 'former'})\n",
    "\n",
    "df['smoking_history'] = df['smoking_history'].fillna('Unknown')\n",
    "\n",
    "smoking_history_encoder = LabelEncoder()\n",
    "df['smoking_history'] = smoking_history_encoder.fit_transform(df['smoking_history'])\n",
    "\n",
    "\n"
   ]
  },
  {
   "cell_type": "code",
   "execution_count": null,
   "id": "ef5f7dba",
   "metadata": {},
   "outputs": [],
   "source": [
    "print(df.shape)         \n",
    "print(df.dtypes)      \n",
    "print(df.head()) "
   ]
  },
  {
   "cell_type": "code",
   "execution_count": null,
   "id": "d7ec7b49",
   "metadata": {},
   "outputs": [],
   "source": [
    "numeric_cols = ['age','bmi','HbA1c_level','blood_glucose_level']\n",
    "outlier_counts = {}\n",
    "\n",
    "for col in numeric_cols:\n",
    "    Q1 = df[col].quantile(0.25)\n",
    "    Q3 = df[col].quantile(0.75)\n",
    "    IQR = Q3 - Q1\n",
    "    lower = Q1 - 1.5 * IQR\n",
    "    upper = Q3 + 1.5 * IQR\n",
    "    mask = (df[col] < lower) | (df[col] > upper)\n",
    "    outlier_counts[col] = mask.sum()\n",
    "\n",
    "print(\"Outliner number: \", outlier_counts)\n",
    "print(\"Outliner proportion: \", {col:cnt/len(df)*100  for col,cnt in outlier_counts.items()})"
   ]
  },
  {
   "cell_type": "code",
   "execution_count": null,
   "id": "a3eebc5f",
   "metadata": {},
   "outputs": [],
   "source": [
    "feature_cols = ['gender','smoking_history','age','hypertension','heart_disease','bmi','HbA1c_level','blood_glucose_level']\n",
    "X = df[feature_cols]\n",
    "y = df['diabetes']\n"
   ]
  },
  {
   "cell_type": "code",
   "execution_count": null,
   "id": "ff8f1c84",
   "metadata": {},
   "outputs": [],
   "source": [
    "from sklearn.model_selection import StratifiedShuffleSplit\n",
    "\n",
    "sss = StratifiedShuffleSplit(\n",
    "    n_splits=1,     \n",
    "    test_size=0.2\n",
    ")\n",
    "\n",
    "for train_idx, test_idx in sss.split(X, y):\n",
    "    X_train, X_test = X.iloc[train_idx], X.iloc[test_idx]\n",
    "    y_train, y_test = y.iloc[train_idx], y.iloc[test_idx]\n",
    "\n",
    "# Check the proportion\n",
    "print(\"Oringinal proportion: \", y.mean())\n",
    "print(\"Training set proportion: \", y_train.mean())\n",
    "print(\"Testing set proportion: \", y_test.mean())"
   ]
  },
  {
   "cell_type": "code",
   "execution_count": null,
   "id": "2f1fbb44",
   "metadata": {},
   "outputs": [],
   "source": [
    "print(\"Training set size: \", X_train.shape, \"Testing set size: \", X_test.shape)"
   ]
  },
  {
   "cell_type": "code",
   "execution_count": null,
   "id": "f5207d94",
   "metadata": {},
   "outputs": [],
   "source": [
    "\n",
    "# building RFCmodel\n",
    "rf = RandomForestClassifier(\n",
    "    n_estimators = 1000,   \n",
    "    max_depth = 22,      \n",
    "    min_samples_leaf = 8,  \n",
    "    random_state = None,\n",
    "    n_jobs = -1 ,\n",
    "    class_weight = {0:1, 1:10}\n",
    ")"
   ]
  },
  {
   "cell_type": "code",
   "execution_count": null,
   "id": "c04f2918",
   "metadata": {},
   "outputs": [],
   "source": [
    "#fit the model\n",
    "rf.fit(X_train, y_train)"
   ]
  },
  {
   "cell_type": "code",
   "execution_count": null,
   "id": "a948cdfe",
   "metadata": {},
   "outputs": [],
   "source": [
    "# Do the prediction\n",
    "y_pred = rf.predict(X_test)\n",
    "\n",
    "y_proba = rf.predict_proba(X_test)[:, 1]\n",
    "\n",
    "# Output the classification report\n",
    "print(classification_report(y_test, y_pred))\n",
    "print(\"ROC AUC:\", roc_auc_score(y_test, y_proba))\n",
    "\n",
    "# Plot confusion matrix\n",
    "cm = confusion_matrix(y_test, y_pred)\n",
    "plt.figure(figsize=(4, 3))\n",
    "sns.heatmap(cm, annot=True, fmt='d', cmap='Reds')\n",
    "plt.title('Confusion Matrix')\n",
    "plt.xlabel('Predicted')\n",
    "plt.ylabel('True')\n",
    "plt.show()"
   ]
  },
  {
   "cell_type": "code",
   "execution_count": null,
   "id": "aea1252e",
   "metadata": {},
   "outputs": [],
   "source": [
    "\"\"\"\n",
    "for depth in range(1, 30):\n",
    "\n",
    "    rf = RandomForestClassifier(\n",
    "    n_estimators = 1000,    \n",
    "    max_depth = depth,    \n",
    "    min_samples_leaf = 8,  \n",
    "    random_state = None,\n",
    "    n_jobs = -1 ,           \n",
    "    class_weight = 'balanced')\n",
    "    \n",
    "    scores = cross_val_score(rf, X_train, y_train, cv=5) \n",
    "    print(f\" Depth: {depth}, Average accuracy: {scores.mean():.4f}\")\n",
    "\"\"\""
   ]
  },
  {
   "cell_type": "code",
   "execution_count": null,
   "id": "d9c60247",
   "metadata": {},
   "outputs": [],
   "source": [
    "from sklearn.pipeline import Pipeline\n",
    "from sklearn.preprocessing import StandardScaler\n",
    "from sklearn.neighbors import KNeighborsClassifier\n",
    "from sklearn.model_selection import train_test_split, GridSearchCV, StratifiedKFold\n",
    "\n",
    "\n",
    "# Pipeline construction\n",
    "pipe = Pipeline([\n",
    "    ('scaler', StandardScaler()),\n",
    "    ('knn', KNeighborsClassifier())\n",
    "])\n",
    "\n",
    "# Grid search for good parameter\n",
    "param_grid = {\n",
    "    'knn__n_neighbors': [3,5,7,9,11,13],\n",
    "    'knn__weights': ['uniform','distance'],\n",
    "    'knn__p': [1,2]\n",
    "}\n",
    "\n",
    "skf = StratifiedKFold(n_splits=5, shuffle=True, random_state=42)\n",
    "grid = GridSearchCV(pipe, param_grid, cv=skf, scoring='recall', n_jobs=-1)\n",
    "grid.fit(X_train, y_train)\n",
    "\n",
    "print(\"Best Parameter:\", grid.best_params_)\n",
    "print(\"Best recall rate:\", grid.best_score_)\n",
    "\n",
    "best_knn = grid.best_estimator_\n",
    "y_pred  = best_knn.predict(X_test)\n",
    "y_proba = best_knn.predict_proba(X_test)[:,1]\n",
    "\n",
    "print(classification_report(y_test, y_pred))\n",
    "print(\"ROC AUC:\", roc_auc_score(y_test, y_proba))\n",
    "\n",
    "# Plot confusion matrix\n",
    "cm = confusion_matrix(y_test, y_pred)\n",
    "plt.figure(figsize=(4, 3))\n",
    "sns.heatmap(cm, annot=True, fmt='d', cmap='Greens')\n",
    "plt.title('Confusion Matrix')\n",
    "plt.xlabel('Predicted')\n",
    "plt.ylabel('True')\n",
    "plt.show()"
   ]
  }
 ],
 "metadata": {
  "kernelspec": {
   "display_name": "Python 3",
   "language": "python",
   "name": "python3"
  },
  "language_info": {
   "codemirror_mode": {
    "name": "ipython",
    "version": 3
   },
   "file_extension": ".py",
   "mimetype": "text/x-python",
   "name": "python",
   "nbconvert_exporter": "python",
   "pygments_lexer": "ipython3",
   "version": "3.11.2"
  }
 },
 "nbformat": 4,
 "nbformat_minor": 5
}
