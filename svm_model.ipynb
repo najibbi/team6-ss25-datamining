{
 "cells": [
  {
   "cell_type": "markdown",
   "id": "6972e171",
   "metadata": {},
   "source": [
    "# 🧠 Diabetes Prediction using Support Vector Machines (SVM)\n",
    "\n",
    "## 📝 Project Overview\n",
    "This project aims to predict diabetes using patient health data with Support Vector Machines (SVM). After preprocessing (including encoding, scaling, and handling class imbalance), both linear and RBF SVM models were trained. The RBF model was tuned using GridSearchCV on a 10k sample subset. Evaluation on the test set focused on F1-score and ROC AUC due to class imbalance (~9% diabetic cases). The RBF SVM achieved an F1-score of 0.61 and recall of 0.92, reducing false negatives compared to the linear SVM. Initial results show the RBF model is more effective for identifying diabetic patients, making it a strong baseline for further improvements.\n",
    "\n",
    "⚠️ *Note: This project is still in progress. Further model tweaks, feature engineering, and comparisons with other classifiers may be made to improve performance.*\n",
    "\n",
    "\n"
   ]
  },
  {
   "cell_type": "code",
   "execution_count": 1,
   "id": "a0f6a216",
   "metadata": {},
   "outputs": [],
   "source": [
    "# 📦 1. Import libraries\n",
    "import pandas as pd\n",
    "import time\n",
    "import logging\n",
    "import matplotlib.pyplot as plt\n",
    "from sklearn.svm import SVC\n",
    "from sklearn.preprocessing import StandardScaler\n",
    "from sklearn.model_selection import train_test_split, GridSearchCV\n",
    "from sklearn.metrics import f1_score, roc_auc_score, classification_report, confusion_matrix, roc_curve\n",
    "from pre_processing import load_and_clean_data\n"
   ]
  },
  {
   "cell_type": "code",
   "execution_count": 2,
   "id": "462d381d",
   "metadata": {},
   "outputs": [],
   "source": [
    "# 📝 2. Setup logging\n",
    "logging.basicConfig(level=logging.INFO, format='%(asctime)s - %(levelname)s - %(message)s')\n",
    "logger = logging.getLogger()"
   ]
  },
  {
   "cell_type": "code",
   "execution_count": 3,
   "id": "3fbad683",
   "metadata": {},
   "outputs": [
    {
     "name": "stderr",
     "output_type": "stream",
     "text": [
      "2025-05-12 23:50:16,409 - INFO - Loading and preprocessing dataset...\n"
     ]
    }
   ],
   "source": [
    "# 📥 3. Load and preprocess data\n",
    "logger.info(\"Loading and preprocessing dataset...\")\n",
    "X_train, X_val, X_test, y_train, y_val, y_test = load_and_clean_data(\"diabetes_prediction_dataset.csv\", split=True)\n"
   ]
  },
  {
   "cell_type": "code",
   "execution_count": 4,
   "id": "c419a952",
   "metadata": {},
   "outputs": [
    {
     "name": "stderr",
     "output_type": "stream",
     "text": [
      "2025-05-12 23:50:16,653 - INFO - Scaling features...\n"
     ]
    }
   ],
   "source": [
    "# 📊 4. Feature scaling\n",
    "logger.info(\"Scaling features...\")\n",
    "scaler = StandardScaler()\n",
    "X_train = scaler.fit_transform(X_train)\n",
    "X_val = scaler.transform(X_val)\n",
    "X_test = scaler.transform(X_test)\n"
   ]
  },
  {
   "cell_type": "code",
   "execution_count": 5,
   "id": "d8b821e0",
   "metadata": {},
   "outputs": [
    {
     "name": "stdout",
     "output_type": "stream",
     "text": [
      "Class distribution in training set:\n",
      "diabetes\n",
      "0    0.911774\n",
      "1    0.088226\n",
      "Name: proportion, dtype: float64\n"
     ]
    }
   ],
   "source": [
    "# 📏 5. Check class balance\n",
    "print(\"Class distribution in training set:\")\n",
    "print(y_train.value_counts(normalize=True))\n"
   ]
  },
  {
   "cell_type": "code",
   "execution_count": 6,
   "id": "716670b3",
   "metadata": {},
   "outputs": [
    {
     "name": "stderr",
     "output_type": "stream",
     "text": [
      "2025-05-12 23:50:16,731 - INFO - Using subset of 10000 samples for tuning\n"
     ]
    }
   ],
   "source": [
    "# 🧪 6. Subset for fast tuning (optional)\n",
    "subset_size = 10000\n",
    "X_train_small, _, y_train_small, _ = train_test_split(\n",
    "    X_train, y_train, train_size=subset_size, stratify=y_train, random_state=42\n",
    ")\n",
    "logger.info(f\"Using subset of {subset_size} samples for tuning\")\n"
   ]
  },
  {
   "cell_type": "code",
   "execution_count": 7,
   "id": "4a30bf48",
   "metadata": {},
   "outputs": [
    {
     "name": "stderr",
     "output_type": "stream",
     "text": [
      "2025-05-12 23:50:16,740 - INFO - Starting GridSearch for RBF SVM...\n"
     ]
    },
    {
     "name": "stdout",
     "output_type": "stream",
     "text": [
      "Fitting 3 folds for each of 9 candidates, totalling 27 fits\n"
     ]
    },
    {
     "name": "stderr",
     "output_type": "stream",
     "text": [
      "2025-05-12 23:50:44,336 - INFO - RBF GridSearch completed in 27.59 seconds\n",
      "2025-05-12 23:50:44,338 - INFO - Best RBF parameters: {'C': 1, 'gamma': 0.1}\n"
     ]
    }
   ],
   "source": [
    "# 🔍 7. GridSearchCV for RBF kernel with class_weight balanced\n",
    "param_grid_rbf = {\n",
    "    'C': [0.1, 1, 10],\n",
    "    'gamma': ['scale', 0.01, 0.1]\n",
    "}\n",
    "\n",
    "grid_rbf = GridSearchCV(\n",
    "    SVC(kernel='rbf', class_weight='balanced'),\n",
    "    param_grid_rbf,\n",
    "    cv=3,\n",
    "    scoring='f1',\n",
    "    verbose=2,\n",
    "    n_jobs=-1\n",
    ")\n",
    "\n",
    "logger.info(\"Starting GridSearch for RBF SVM...\")\n",
    "start = time.time()\n",
    "grid_rbf.fit(X_train_small, y_train_small)\n",
    "logger.info(\"RBF GridSearch completed in {:.2f} seconds\".format(time.time() - start))\n",
    "logger.info(f\"Best RBF parameters: {grid_rbf.best_params_}\")\n"
   ]
  },
  {
   "cell_type": "code",
   "execution_count": 8,
   "id": "d9142da7",
   "metadata": {},
   "outputs": [
    {
     "name": "stderr",
     "output_type": "stream",
     "text": [
      "2025-05-12 23:50:44,346 - INFO - Training best RBF SVM on full dataset...\n",
      "2025-05-13 00:06:48,656 - INFO - RBF training completed in 964.31 seconds\n"
     ]
    }
   ],
   "source": [
    "# 🚀 8. Train final RBF SVM on full training set\n",
    "best_rbf = SVC(kernel='rbf',\n",
    "               C=grid_rbf.best_params_['C'],\n",
    "               gamma=grid_rbf.best_params_['gamma'],\n",
    "               class_weight='balanced',\n",
    "               probability=True)\n",
    "\n",
    "logger.info(\"Training best RBF SVM on full dataset...\")\n",
    "start = time.time()\n",
    "best_rbf.fit(X_train, y_train)\n",
    "logger.info(\"RBF training completed in {:.2f} seconds\".format(time.time() - start))\n"
   ]
  },
  {
   "cell_type": "code",
   "execution_count": 9,
   "id": "c37e4efa",
   "metadata": {},
   "outputs": [
    {
     "name": "stderr",
     "output_type": "stream",
     "text": [
      "2025-05-13 00:06:48,671 - INFO - Training Linear SVM on full dataset...\n",
      "2025-05-13 00:19:07,733 - INFO - Linear SVM training completed in 739.06 seconds\n"
     ]
    }
   ],
   "source": [
    "# 🚀 9. Train Linear SVM with class_weight balanced\n",
    "svm_linear = SVC(kernel='linear', C=1.0, class_weight='balanced', probability=True, random_state=42)\n",
    "logger.info(\"Training Linear SVM on full dataset...\")\n",
    "start = time.time()\n",
    "svm_linear.fit(X_train, y_train)\n",
    "logger.info(\"Linear SVM training completed in {:.2f} seconds\".format(time.time() - start))\n"
   ]
  },
  {
   "cell_type": "code",
   "execution_count": 10,
   "id": "8bb13d5a",
   "metadata": {},
   "outputs": [
    {
     "name": "stdout",
     "output_type": "stream",
     "text": [
      "=== Linear SVM ===\n",
      "F1 Score: 0.5870917573872473\n",
      "ROC AUC: 0.9667490358354981\n",
      "Confusion Matrix:\n",
      " [[7798  969]\n",
      " [  93  755]]\n",
      "\n",
      "Classification Report:\n",
      "               precision    recall  f1-score   support\n",
      "\n",
      "           0       0.99      0.89      0.94      8767\n",
      "           1       0.44      0.89      0.59       848\n",
      "\n",
      "    accuracy                           0.89      9615\n",
      "   macro avg       0.71      0.89      0.76      9615\n",
      "weighted avg       0.94      0.89      0.91      9615\n",
      "\n",
      "\n",
      "=== RBF SVM ===\n",
      "F1 Score: 0.6100506427736657\n",
      "ROC AUC: 0.9660844241161646\n",
      "Confusion Matrix:\n",
      " [[7831  936]\n",
      " [  65  783]]\n",
      "\n",
      "Classification Report:\n",
      "               precision    recall  f1-score   support\n",
      "\n",
      "           0       0.99      0.89      0.94      8767\n",
      "           1       0.46      0.92      0.61       848\n",
      "\n",
      "    accuracy                           0.90      9615\n",
      "   macro avg       0.72      0.91      0.77      9615\n",
      "weighted avg       0.94      0.90      0.91      9615\n",
      "\n"
     ]
    }
   ],
   "source": [
    "# ✅ 10. Evaluate both models\n",
    "y_pred_linear = svm_linear.predict(X_test)\n",
    "y_pred_rbf = best_rbf.predict(X_test)\n",
    "\n",
    "y_score_linear = svm_linear.decision_function(X_test)\n",
    "y_score_rbf = best_rbf.decision_function(X_test)\n",
    "\n",
    "print(\"=== Linear SVM ===\")\n",
    "print(\"F1 Score:\", f1_score(y_test, y_pred_linear))\n",
    "print(\"ROC AUC:\", roc_auc_score(y_test, y_score_linear))\n",
    "print(\"Confusion Matrix:\\n\", confusion_matrix(y_test, y_pred_linear))\n",
    "print(\"\\nClassification Report:\\n\", classification_report(y_test, y_pred_linear))\n",
    "\n",
    "print(\"\\n=== RBF SVM ===\")\n",
    "print(\"F1 Score:\", f1_score(y_test, y_pred_rbf))\n",
    "print(\"ROC AUC:\", roc_auc_score(y_test, y_score_rbf))\n",
    "print(\"Confusion Matrix:\\n\", confusion_matrix(y_test, y_pred_rbf))\n",
    "print(\"\\nClassification Report:\\n\", classification_report(y_test, y_pred_rbf))\n"
   ]
  }
 ],
 "metadata": {
  "kernelspec": {
   "display_name": "Python 3 (ipykernel)",
   "language": "python",
   "name": "python3"
  },
  "language_info": {
   "codemirror_mode": {
    "name": "ipython",
    "version": 3
   },
   "file_extension": ".py",
   "mimetype": "text/x-python",
   "name": "python",
   "nbconvert_exporter": "python",
   "pygments_lexer": "ipython3",
   "version": "3.11.3"
  }
 },
 "nbformat": 4,
 "nbformat_minor": 5
}
