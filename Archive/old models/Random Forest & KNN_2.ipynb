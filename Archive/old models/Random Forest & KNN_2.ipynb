{
 "cells": [
  {
   "cell_type": "code",
   "execution_count": 16,
   "metadata": {},
   "outputs": [],
   "source": [
    "import pandas as pd\n",
    "import matplotlib.pyplot as plt\n",
    "import seaborn as sns\n",
    "import numpy as np\n",
    "from pre_processing import load_and_clean_data\n",
    "from sklearn.preprocessing import LabelEncoder, StandardScaler\n",
    "from sklearn.model_selection import train_test_split\n",
    "from sklearn.metrics import classification_report, roc_auc_score, confusion_matrix\n",
    "from sklearn.model_selection import cross_val_score\n",
    "from sklearn.ensemble import RandomForestClassifier\n",
    "from imblearn.over_sampling import SMOTE\n",
    "from sklearn.model_selection import RandomizedSearchCV, GridSearchCV, StratifiedKFold\n",
    "from sklearn.metrics import make_scorer, f1_score, confusion_matrix, ConfusionMatrixDisplay\n",
    "from sklearn.metrics import precision_score, recall_score, f1_score\n",
    "import time\n",
    "from sklearn.neighbors import KNeighborsClassifier"
   ]
  },
  {
   "cell_type": "code",
   "execution_count": 17,
   "metadata": {},
   "outputs": [],
   "source": [
    "#df = pd.read_csv(\"diabetes_prediction_dataset.csv\")"
   ]
  },
  {
   "cell_type": "code",
   "execution_count": 2,
   "metadata": {},
   "outputs": [],
   "source": [
    "#print(df.shape)       \n",
    "#print(df.dtypes)        \n",
    "#print(df.head()) "
   ]
  },
  {
   "cell_type": "code",
   "execution_count": 3,
   "metadata": {},
   "outputs": [],
   "source": [
    "# Check for the Duplicates\n",
    "#n_dup = df.duplicated().sum()\n",
    "#print(\"Duplicated Number:\", n_dup)\n",
    "\n",
    "# Check for the missing value\n",
    "#miss_cnt = df.isna().sum()\n",
    "#miss_pct = (df.isna().mean() * 100).round(2)\n",
    "#print(\"\\nNumber of missing value:\\n\", miss_cnt)\n",
    "#print(\"\\nMissing value proportion:\\n\", miss_pct)\n",
    "\n",
    "# 3. Check for the distributions:\n",
    "#print(\"\\nGender distribution:\\n\", df['gender'].value_counts(dropna=False))\n",
    "#print(\"\\nSmoking_history distribution:\\n\", df['smoking_history'].value_counts(dropna=False))\n",
    "\n",
    "#print(\"\\nage: \\n\", df['age'].describe())\n",
    "#print(\"\\nbmi: \\n\", df['bmi'].describe())\n",
    "#print(\"\\nHbA1c_level: \\n\", df['HbA1c_level'].describe())\n",
    "#print(\"\\nblood_glucose_level: \\n\", df['blood_glucose_level'].describe())\n"
   ]
  },
  {
   "cell_type": "code",
   "execution_count": 2,
   "metadata": {},
   "outputs": [],
   "source": [
    "#1.1 eliminate duplicates\n",
    "#df = df.drop_duplicates()\n",
    "\n",
    "#1.2 remove gender = other\n",
    "#df = df[df['gender'] != 'Other'].reset_index(drop=True)\n",
    "\n",
    "#gender_encoder = LabelEncoder()\n",
    "#df['gender'] = gender_encoder.fit_transform(df['gender'])\n",
    "\n",
    "#1.2 replace Smoking_History: No Info to NAN\n",
    "#df['smoking_history'] = df['smoking_history'].replace('No Info', np.nan)\n",
    "\n",
    "#grouping\n",
    "#df['smoking_history'] = df['smoking_history'].replace({ 'ever':    'former', 'not current': 'former'})\n",
    "\n",
    "#df['smoking_history'] = df['smoking_history'].fillna('Unknown')\n",
    "\n",
    "#smoking_history_encoder = LabelEncoder()\n",
    "#df['smoking_history'] = smoking_history_encoder.fit_transform(df['smoking_history'])"
   ]
  },
  {
   "cell_type": "code",
   "execution_count": 2,
   "metadata": {},
   "outputs": [],
   "source": [
    "X_train, X_val, X_test, y_train, y_val, y_test = load_and_clean_data(\n",
    "    \"diabetes_prediction_dataset.csv\", split=True, standardize=False\n",
    ")"
   ]
  },
  {
   "cell_type": "code",
   "execution_count": 15,
   "metadata": {},
   "outputs": [],
   "source": [
    "#numeric_cols = ['age','bmi','HbA1c_level','blood_glucose_level']\n",
    "#outlier_counts = {}\n",
    "\n",
    "#for col in numeric_cols:\n",
    "#    Q1 = df[col].quantile(0.25)\n",
    "#    Q3 = df[col].quantile(0.75)\n",
    "#    IQR = Q3 - Q1\n",
    "#    lower = Q1 - 1.5 * IQR\n",
    "#    upper = Q3 + 1.5 * IQR\n",
    "#    mask = (df[col] < lower) | (df[col] > upper)\n",
    "#    outlier_counts[col] = mask.sum()\n",
    "\n",
    "#print(\"Outliner number: \", outlier_counts)\n",
    "#print(\"Outliner proportion: \", {col:cnt/len(df)*100  for col,cnt in outlier_counts.items()})"
   ]
  },
  {
   "cell_type": "code",
   "execution_count": 12,
   "metadata": {},
   "outputs": [],
   "source": [
    "#feature_cols = ['gender','smoking_history','age','hypertension','heart_disease','bmi','HbA1c_level','blood_glucose_level']\n",
    "#X = df[feature_cols]\n",
    "#y = df['diabetes']\n"
   ]
  },
  {
   "cell_type": "code",
   "execution_count": 5,
   "metadata": {},
   "outputs": [],
   "source": [
    "#from sklearn.model_selection import StratifiedShuffleSplit\n",
    "\n",
    "#sss = StratifiedShuffleSplit(\n",
    "#    n_splits=1,     \n",
    "#    test_size=0.2\n",
    "#)\n",
    "\n",
    "#for train_idx, test_idx in sss.split(X, y):\n",
    "#    X_train, X_test = X.iloc[train_idx], X.iloc[test_idx]\n",
    "#    y_train, y_test = y.iloc[train_idx], y.iloc[test_idx]\n",
    "\n",
    "# Check the proportion\n",
    "#print(\"Oringinal proportion: \", y.mean())\n",
    "#print(\"Training set proportion: \", y_train.mean())\n",
    "#print(\"Testing set proportion: \", y_test.mean())"
   ]
  },
  {
   "cell_type": "code",
   "execution_count": 24,
   "metadata": {},
   "outputs": [],
   "source": [
    "#print(\"Training set size: \", X_train.shape, \"Testing set size: \", X_test.shape)"
   ]
  },
  {
   "cell_type": "code",
   "execution_count": 6,
   "metadata": {},
   "outputs": [],
   "source": [
    "# Define param grid\n",
    "param_dist = {\n",
    "    'n_estimators': [100, 300, 500, 1000],\n",
    "    'max_depth': [10, 15, 20, 25, None],\n",
    "    'min_samples_split': [2, 5, 10],\n",
    "    'min_samples_leaf': [1, 4, 8],\n",
    "    'max_features': ['sqrt', 'log2', None],\n",
    "    'class_weight': [{0:1, 1:5}, {0:1, 1:10}, {0:1, 1:15}]\n",
    "}\n",
    "# Scorer focused on class 1 (diabetes)\n",
    "f1_minority = make_scorer(f1_score, pos_label=1)\n",
    "\n",
    "# Random Forest setup\n",
    "rf = RandomForestClassifier(random_state=42, n_jobs=-1)"
   ]
  },
  {
   "cell_type": "code",
   "execution_count": 16,
   "metadata": {},
   "outputs": [],
   "source": [
    "# Randomized search\n",
    "#Essayer hadchi f chi blassa akhra\n",
    "#random_search = RandomizedSearchCV(\n",
    "#    rf,\n",
    "#    param_distributions=param_dist,\n",
    "#    n_iter=30,  # Number of random combinations to try\n",
    "#    scoring=f1_minority,\n",
    "#    cv=5,\n",
    "#    verbose=1,\n",
    "#    random_state=42,\n",
    "#    n_jobs=-1\n",
    "#)\n",
    "\n",
    "#random_search.fit(X_train, y_train)\n",
    "# Small test run\n",
    "#test_search = RandomizedSearchCV(\n",
    "#    rf,\n",
    "#    param_distributions=param_dist,\n",
    "#    n_iter=2,\n",
    "#    scoring=f1_minority,\n",
    "#    cv=2,\n",
    "#    verbose=1,\n",
    "#    random_state=42,\n",
    "#    n_jobs=-1\n",
    "#)\n",
    "\n",
    "#start = time.time()\n",
    "#test_search.fit(X_train, y_train)\n",
    "#end = time.time()\n",
    "\n",
    "#print(f\"Estimated time per fit: {(end - start) / 4:.2f} seconds\")\n",
    "#estimated_total = ((end - start) / 4) * 150\n",
    "#print(f\"Estimated total time for full run: {estimated_total / 60:.2f} minutes\")"
   ]
  },
  {
   "cell_type": "code",
   "execution_count": null,
   "metadata": {},
   "outputs": [],
   "source": [
    "# Results\n",
    "#print(\"Best parameters:\", random_search.best_params_)\n",
    "#print(\"Best F1 score:\", random_search.best_score_)"
   ]
  },
  {
   "cell_type": "code",
   "execution_count": 3,
   "metadata": {},
   "outputs": [],
   "source": [
    "# Build the Random Forest Classifier\n",
    "rf = RandomForestClassifier(\n",
    "    n_estimators=300,\n",
    "    max_depth=10,\n",
    "    min_samples_leaf=2,\n",
    "    max_features='sqrt',\n",
    "    oob_score=True,\n",
    "    random_state=42,\n",
    "    n_jobs=-1,\n",
    "    class_weight='balanced'\n",
    ")"
   ]
  },
  {
   "cell_type": "code",
   "execution_count": 4,
   "metadata": {},
   "outputs": [
    {
     "data": {
      "text/html": [
       "<style>#sk-container-id-1 {color: black;}#sk-container-id-1 pre{padding: 0;}#sk-container-id-1 div.sk-toggleable {background-color: white;}#sk-container-id-1 label.sk-toggleable__label {cursor: pointer;display: block;width: 100%;margin-bottom: 0;padding: 0.3em;box-sizing: border-box;text-align: center;}#sk-container-id-1 label.sk-toggleable__label-arrow:before {content: \"▸\";float: left;margin-right: 0.25em;color: #696969;}#sk-container-id-1 label.sk-toggleable__label-arrow:hover:before {color: black;}#sk-container-id-1 div.sk-estimator:hover label.sk-toggleable__label-arrow:before {color: black;}#sk-container-id-1 div.sk-toggleable__content {max-height: 0;max-width: 0;overflow: hidden;text-align: left;background-color: #f0f8ff;}#sk-container-id-1 div.sk-toggleable__content pre {margin: 0.2em;color: black;border-radius: 0.25em;background-color: #f0f8ff;}#sk-container-id-1 input.sk-toggleable__control:checked~div.sk-toggleable__content {max-height: 200px;max-width: 100%;overflow: auto;}#sk-container-id-1 input.sk-toggleable__control:checked~label.sk-toggleable__label-arrow:before {content: \"▾\";}#sk-container-id-1 div.sk-estimator input.sk-toggleable__control:checked~label.sk-toggleable__label {background-color: #d4ebff;}#sk-container-id-1 div.sk-label input.sk-toggleable__control:checked~label.sk-toggleable__label {background-color: #d4ebff;}#sk-container-id-1 input.sk-hidden--visually {border: 0;clip: rect(1px 1px 1px 1px);clip: rect(1px, 1px, 1px, 1px);height: 1px;margin: -1px;overflow: hidden;padding: 0;position: absolute;width: 1px;}#sk-container-id-1 div.sk-estimator {font-family: monospace;background-color: #f0f8ff;border: 1px dotted black;border-radius: 0.25em;box-sizing: border-box;margin-bottom: 0.5em;}#sk-container-id-1 div.sk-estimator:hover {background-color: #d4ebff;}#sk-container-id-1 div.sk-parallel-item::after {content: \"\";width: 100%;border-bottom: 1px solid gray;flex-grow: 1;}#sk-container-id-1 div.sk-label:hover label.sk-toggleable__label {background-color: #d4ebff;}#sk-container-id-1 div.sk-serial::before {content: \"\";position: absolute;border-left: 1px solid gray;box-sizing: border-box;top: 0;bottom: 0;left: 50%;z-index: 0;}#sk-container-id-1 div.sk-serial {display: flex;flex-direction: column;align-items: center;background-color: white;padding-right: 0.2em;padding-left: 0.2em;position: relative;}#sk-container-id-1 div.sk-item {position: relative;z-index: 1;}#sk-container-id-1 div.sk-parallel {display: flex;align-items: stretch;justify-content: center;background-color: white;position: relative;}#sk-container-id-1 div.sk-item::before, #sk-container-id-1 div.sk-parallel-item::before {content: \"\";position: absolute;border-left: 1px solid gray;box-sizing: border-box;top: 0;bottom: 0;left: 50%;z-index: -1;}#sk-container-id-1 div.sk-parallel-item {display: flex;flex-direction: column;z-index: 1;position: relative;background-color: white;}#sk-container-id-1 div.sk-parallel-item:first-child::after {align-self: flex-end;width: 50%;}#sk-container-id-1 div.sk-parallel-item:last-child::after {align-self: flex-start;width: 50%;}#sk-container-id-1 div.sk-parallel-item:only-child::after {width: 0;}#sk-container-id-1 div.sk-dashed-wrapped {border: 1px dashed gray;margin: 0 0.4em 0.5em 0.4em;box-sizing: border-box;padding-bottom: 0.4em;background-color: white;}#sk-container-id-1 div.sk-label label {font-family: monospace;font-weight: bold;display: inline-block;line-height: 1.2em;}#sk-container-id-1 div.sk-label-container {text-align: center;}#sk-container-id-1 div.sk-container {/* jupyter's `normalize.less` sets `[hidden] { display: none; }` but bootstrap.min.css set `[hidden] { display: none !important; }` so we also need the `!important` here to be able to override the default hidden behavior on the sphinx rendered scikit-learn.org. See: https://github.com/scikit-learn/scikit-learn/issues/21755 */display: inline-block !important;position: relative;}#sk-container-id-1 div.sk-text-repr-fallback {display: none;}</style><div id=\"sk-container-id-1\" class=\"sk-top-container\"><div class=\"sk-text-repr-fallback\"><pre>RandomForestClassifier(class_weight=&#x27;balanced&#x27;, max_depth=10,\n",
       "                       min_samples_leaf=2, n_estimators=300, n_jobs=-1,\n",
       "                       oob_score=True, random_state=42)</pre><b>In a Jupyter environment, please rerun this cell to show the HTML representation or trust the notebook. <br />On GitHub, the HTML representation is unable to render, please try loading this page with nbviewer.org.</b></div><div class=\"sk-container\" hidden><div class=\"sk-item\"><div class=\"sk-estimator sk-toggleable\"><input class=\"sk-toggleable__control sk-hidden--visually\" id=\"sk-estimator-id-1\" type=\"checkbox\" checked><label for=\"sk-estimator-id-1\" class=\"sk-toggleable__label sk-toggleable__label-arrow\">RandomForestClassifier</label><div class=\"sk-toggleable__content\"><pre>RandomForestClassifier(class_weight=&#x27;balanced&#x27;, max_depth=10,\n",
       "                       min_samples_leaf=2, n_estimators=300, n_jobs=-1,\n",
       "                       oob_score=True, random_state=42)</pre></div></div></div></div></div>"
      ],
      "text/plain": [
       "RandomForestClassifier(class_weight='balanced', max_depth=10,\n",
       "                       min_samples_leaf=2, n_estimators=300, n_jobs=-1,\n",
       "                       oob_score=True, random_state=42)"
      ]
     },
     "execution_count": 4,
     "metadata": {},
     "output_type": "execute_result"
    }
   ],
   "source": [
    "#fit the model\n",
    "rf.fit(X_train, y_train)"
   ]
  },
  {
   "cell_type": "code",
   "execution_count": 5,
   "metadata": {},
   "outputs": [
    {
     "name": "stdout",
     "output_type": "stream",
     "text": [
      "              precision    recall  f1-score   support\n",
      "\n",
      "           0       0.98      0.98      0.98     17534\n",
      "           1       0.77      0.74      0.76      1696\n",
      "\n",
      "    accuracy                           0.96     19230\n",
      "   macro avg       0.87      0.86      0.87     19230\n",
      "weighted avg       0.96      0.96      0.96     19230\n",
      "\n",
      "ROC AUC: 0.973068109855569\n"
     ]
    },
    {
     "data": {
      "image/png": "[encoded data removed]",
      "text/plain": [
       "<Figure size 288x216 with 2 Axes>"
      ]
     },
     "metadata": {
      "needs_background": "light"
     },
     "output_type": "display_data"
    }
   ],
   "source": [
    "# Do the prediction\n",
    "y_pred = rf.predict(X_test)\n",
    "\n",
    "y_proba = rf.predict_proba(X_test)[:, 1]\n",
    "\n",
    "# Output the classification report\n",
    "print(classification_report(y_test, y_pred))\n",
    "print(\"ROC AUC:\", roc_auc_score(y_test, y_proba))\n",
    "\n",
    "# Plot confusion matrix\n",
    "cm = confusion_matrix(y_test, y_pred)\n",
    "plt.figure(figsize=(4, 3))\n",
    "sns.heatmap(cm, annot=True, fmt='d', cmap='Reds')\n",
    "plt.title('Confusion Matrix')\n",
    "plt.xlabel('Predicted')\n",
    "plt.ylabel('True')\n",
    "plt.show()"
   ]
  },
  {
   "cell_type": "code",
   "execution_count": 6,
   "metadata": {},
   "outputs": [],
   "source": [
    "def evaluate_thresholds(y_true, y_probs, thresholds=np.arange(0.1, 0.9, 0.05)):\n",
    "    print(\"Threshold | Precision | Recall | F1-score\")\n",
    "    print(\"-------------------------------------------\")\n",
    "    for thresh in thresholds:\n",
    "        y_pred = (y_probs >= thresh).astype(int)\n",
    "        precision = precision_score(y_true, y_pred, pos_label=1)\n",
    "        recall = recall_score(y_true, y_pred, pos_label=1)\n",
    "        f1 = f1_score(y_true, y_pred, pos_label=1)\n",
    "        print(f\"{thresh:9.2f} | {precision:9.4f} | {recall:6.4f} | {f1:8.4f}\")"
   ]
  },
  {
   "cell_type": "code",
   "execution_count": 7,
   "metadata": {},
   "outputs": [
    {
     "name": "stdout",
     "output_type": "stream",
     "text": [
      "Threshold | Precision | Recall | F1-score\n",
      "-------------------------------------------\n",
      "     0.10 |    0.2599 | 0.9788 |   0.4108\n",
      "     0.15 |    0.3329 | 0.9682 |   0.4955\n",
      "     0.20 |    0.3758 | 0.9469 |   0.5380\n",
      "     0.25 |    0.4178 | 0.9233 |   0.5753\n",
      "     0.30 |    0.4693 | 0.8915 |   0.6149\n",
      "     0.35 |    0.5188 | 0.8620 |   0.6478\n",
      "     0.40 |    0.5883 | 0.8290 |   0.6882\n",
      "     0.45 |    0.6745 | 0.7818 |   0.7242\n",
      "     0.50 |    0.7750 | 0.7394 |   0.7568\n",
      "     0.55 |    0.8652 | 0.7040 |   0.7763\n",
      "     0.60 |    0.9696 | 0.6769 |   0.7972\n",
      "     0.65 |    0.9964 | 0.6604 |   0.7943\n",
      "     0.70 |    1.0000 | 0.6580 |   0.7937\n",
      "     0.75 |    1.0000 | 0.6580 |   0.7937\n",
      "     0.80 |    1.0000 | 0.6580 |   0.7937\n",
      "     0.85 |    1.0000 | 0.6557 |   0.7920\n"
     ]
    }
   ],
   "source": [
    "# Get probabilities\n",
    "y_val_probs = rf.predict_proba(X_val)[:, 1]\n",
    "\n",
    "# Run evaluation\n",
    "evaluate_thresholds(y_val, y_val_probs)"
   ]
  },
  {
   "cell_type": "code",
   "execution_count": 8,
   "metadata": {},
   "outputs": [
    {
     "name": "stdout",
     "output_type": "stream",
     "text": [
      "              precision    recall  f1-score   support\n",
      "\n",
      "           0     0.9696    0.9979    0.9836      8767\n",
      "           1     0.9696    0.6769    0.7972       848\n",
      "\n",
      "    accuracy                         0.9696      9615\n",
      "   macro avg     0.9696    0.8374    0.8904      9615\n",
      "weighted avg     0.9696    0.9696    0.9671      9615\n",
      "\n"
     ]
    }
   ],
   "source": [
    "# Use final threshold\n",
    "custom_threshold = 0.60\n",
    "y_val_pred = (y_val_probs >= custom_threshold).astype(int)\n",
    "\n",
    "# Evaluate\n",
    "print(classification_report(y_val, y_val_pred, digits=4))"
   ]
  },
  {
   "cell_type": "code",
   "execution_count": 9,
   "metadata": {},
   "outputs": [
    {
     "data": {
      "image/png": "[encoded data removed]",
      "text/plain": [
       "<Figure size 432x288 with 2 Axes>"
      ]
     },
     "metadata": {
      "needs_background": "light"
     },
     "output_type": "display_data"
    }
   ],
   "source": [
    "# Compute and display confusion matrix\n",
    "cm = confusion_matrix(y_val, y_val_pred)\n",
    "disp = ConfusionMatrixDisplay(confusion_matrix=cm, display_labels=[0, 1])\n",
    "disp.plot(cmap='Blues', values_format='d')\n",
    "plt.title(\"Confusion Matrix (Validation Set, Threshold = 0.65)\")\n",
    "plt.show()"
   ]
  },
  {
   "cell_type": "code",
   "execution_count": null,
   "metadata": {},
   "outputs": [],
   "source": []
  },
  {
   "cell_type": "code",
   "execution_count": null,
   "metadata": {},
   "outputs": [],
   "source": []
  },
  {
   "cell_type": "code",
   "execution_count": 10,
   "metadata": {},
   "outputs": [
    {
     "data": {
      "text/plain": [
       "'\\nfor depth in range(1, 30):\\n\\n    rf = RandomForestClassifier(\\n    n_estimators = 1000,    \\n    max_depth = depth,    \\n    min_samples_leaf = 8,  \\n    random_state = None,\\n    n_jobs = -1 ,           \\n    class_weight = \\'balanced\\')\\n    \\n    scores = cross_val_score(rf, X_train, y_train, cv=5) \\n    print(f\" Depth: {depth}, Average accuracy: {scores.mean():.4f}\")\\n'"
      ]
     },
     "execution_count": 10,
     "metadata": {},
     "output_type": "execute_result"
    }
   ],
   "source": [
    "\"\"\"\n",
    "for depth in range(1, 30):\n",
    "\n",
    "    rf = RandomForestClassifier(\n",
    "    n_estimators = 1000,    \n",
    "    max_depth = depth,    \n",
    "    min_samples_leaf = 8,  \n",
    "    random_state = None,\n",
    "    n_jobs = -1 ,           \n",
    "    class_weight = 'balanced')\n",
    "    \n",
    "    scores = cross_val_score(rf, X_train, y_train, cv=5) \n",
    "    print(f\" Depth: {depth}, Average accuracy: {scores.mean():.4f}\")\n",
    "\"\"\""
   ]
  },
  {
   "cell_type": "code",
   "execution_count": null,
   "metadata": {},
   "outputs": [],
   "source": []
  },
  {
   "cell_type": "code",
   "execution_count": 37,
   "metadata": {},
   "outputs": [],
   "source": [
    "X_train2, X_val2, X_test2, y_train2, y_val2, y_test2 = load_and_clean_data(\n",
    "    \"diabetes_prediction_dataset.csv\", split=True, standardize=True\n",
    ")"
   ]
  },
  {
   "cell_type": "code",
   "execution_count": 30,
   "metadata": {},
   "outputs": [],
   "source": []
  },
  {
   "cell_type": "code",
   "execution_count": 38,
   "metadata": {},
   "outputs": [],
   "source": [
    "param_grid = {\n",
    "    'n_neighbors': [3, 5, 7, 9, 11, 13],\n",
    "    'weights': ['uniform', 'distance'],\n",
    "    'p': [1, 2]  # p=1 (Manhattan), p=2 (Euclidean)\n",
    "}\n",
    "skf = StratifiedKFold(n_splits=5, shuffle=True, random_state=42)"
   ]
  },
  {
   "cell_type": "code",
   "execution_count": 43,
   "metadata": {},
   "outputs": [
    {
     "data": {
      "text/html": [
       "<style>#sk-container-id-6 {color: black;}#sk-container-id-6 pre{padding: 0;}#sk-container-id-6 div.sk-toggleable {background-color: white;}#sk-container-id-6 label.sk-toggleable__label {cursor: pointer;display: block;width: 100%;margin-bottom: 0;padding: 0.3em;box-sizing: border-box;text-align: center;}#sk-container-id-6 label.sk-toggleable__label-arrow:before {content: \"▸\";float: left;margin-right: 0.25em;color: #696969;}#sk-container-id-6 label.sk-toggleable__label-arrow:hover:before {color: black;}#sk-container-id-6 div.sk-estimator:hover label.sk-toggleable__label-arrow:before {color: black;}#sk-container-id-6 div.sk-toggleable__content {max-height: 0;max-width: 0;overflow: hidden;text-align: left;background-color: #f0f8ff;}#sk-container-id-6 div.sk-toggleable__content pre {margin: 0.2em;color: black;border-radius: 0.25em;background-color: #f0f8ff;}#sk-container-id-6 input.sk-toggleable__control:checked~div.sk-toggleable__content {max-height: 200px;max-width: 100%;overflow: auto;}#sk-container-id-6 input.sk-toggleable__control:checked~label.sk-toggleable__label-arrow:before {content: \"▾\";}#sk-container-id-6 div.sk-estimator input.sk-toggleable__control:checked~label.sk-toggleable__label {background-color: #d4ebff;}#sk-container-id-6 div.sk-label input.sk-toggleable__control:checked~label.sk-toggleable__label {background-color: #d4ebff;}#sk-container-id-6 input.sk-hidden--visually {border: 0;clip: rect(1px 1px 1px 1px);clip: rect(1px, 1px, 1px, 1px);height: 1px;margin: -1px;overflow: hidden;padding: 0;position: absolute;width: 1px;}#sk-container-id-6 div.sk-estimator {font-family: monospace;background-color: #f0f8ff;border: 1px dotted black;border-radius: 0.25em;box-sizing: border-box;margin-bottom: 0.5em;}#sk-container-id-6 div.sk-estimator:hover {background-color: #d4ebff;}#sk-container-id-6 div.sk-parallel-item::after {content: \"\";width: 100%;border-bottom: 1px solid gray;flex-grow: 1;}#sk-container-id-6 div.sk-label:hover label.sk-toggleable__label {background-color: #d4ebff;}#sk-container-id-6 div.sk-serial::before {content: \"\";position: absolute;border-left: 1px solid gray;box-sizing: border-box;top: 0;bottom: 0;left: 50%;z-index: 0;}#sk-container-id-6 div.sk-serial {display: flex;flex-direction: column;align-items: center;background-color: white;padding-right: 0.2em;padding-left: 0.2em;position: relative;}#sk-container-id-6 div.sk-item {position: relative;z-index: 1;}#sk-container-id-6 div.sk-parallel {display: flex;align-items: stretch;justify-content: center;background-color: white;position: relative;}#sk-container-id-6 div.sk-item::before, #sk-container-id-6 div.sk-parallel-item::before {content: \"\";position: absolute;border-left: 1px solid gray;box-sizing: border-box;top: 0;bottom: 0;left: 50%;z-index: -1;}#sk-container-id-6 div.sk-parallel-item {display: flex;flex-direction: column;z-index: 1;position: relative;background-color: white;}#sk-container-id-6 div.sk-parallel-item:first-child::after {align-self: flex-end;width: 50%;}#sk-container-id-6 div.sk-parallel-item:last-child::after {align-self: flex-start;width: 50%;}#sk-container-id-6 div.sk-parallel-item:only-child::after {width: 0;}#sk-container-id-6 div.sk-dashed-wrapped {border: 1px dashed gray;margin: 0 0.4em 0.5em 0.4em;box-sizing: border-box;padding-bottom: 0.4em;background-color: white;}#sk-container-id-6 div.sk-label label {font-family: monospace;font-weight: bold;display: inline-block;line-height: 1.2em;}#sk-container-id-6 div.sk-label-container {text-align: center;}#sk-container-id-6 div.sk-container {/* jupyter's `normalize.less` sets `[hidden] { display: none; }` but bootstrap.min.css set `[hidden] { display: none !important; }` so we also need the `!important` here to be able to override the default hidden behavior on the sphinx rendered scikit-learn.org. See: https://github.com/scikit-learn/scikit-learn/issues/21755 */display: inline-block !important;position: relative;}#sk-container-id-6 div.sk-text-repr-fallback {display: none;}</style><div id=\"sk-container-id-6\" class=\"sk-top-container\"><div class=\"sk-text-repr-fallback\"><pre>GridSearchCV(cv=StratifiedKFold(n_splits=5, random_state=42, shuffle=True),\n",
       "             estimator=KNeighborsClassifier(), n_jobs=-1,\n",
       "             param_grid={&#x27;n_neighbors&#x27;: [3, 5, 7, 9, 11, 13], &#x27;p&#x27;: [1, 2],\n",
       "                         &#x27;weights&#x27;: [&#x27;uniform&#x27;, &#x27;distance&#x27;]},\n",
       "             scoring=&#x27;f1_macro&#x27;)</pre><b>In a Jupyter environment, please rerun this cell to show the HTML representation or trust the notebook. <br />On GitHub, the HTML representation is unable to render, please try loading this page with nbviewer.org.</b></div><div class=\"sk-container\" hidden><div class=\"sk-item sk-dashed-wrapped\"><div class=\"sk-label-container\"><div class=\"sk-label sk-toggleable\"><input class=\"sk-toggleable__control sk-hidden--visually\" id=\"sk-estimator-id-14\" type=\"checkbox\" ><label for=\"sk-estimator-id-14\" class=\"sk-toggleable__label sk-toggleable__label-arrow\">GridSearchCV</label><div class=\"sk-toggleable__content\"><pre>GridSearchCV(cv=StratifiedKFold(n_splits=5, random_state=42, shuffle=True),\n",
       "             estimator=KNeighborsClassifier(), n_jobs=-1,\n",
       "             param_grid={&#x27;n_neighbors&#x27;: [3, 5, 7, 9, 11, 13], &#x27;p&#x27;: [1, 2],\n",
       "                         &#x27;weights&#x27;: [&#x27;uniform&#x27;, &#x27;distance&#x27;]},\n",
       "             scoring=&#x27;f1_macro&#x27;)</pre></div></div></div><div class=\"sk-parallel\"><div class=\"sk-parallel-item\"><div class=\"sk-item\"><div class=\"sk-label-container\"><div class=\"sk-label sk-toggleable\"><input class=\"sk-toggleable__control sk-hidden--visually\" id=\"sk-estimator-id-15\" type=\"checkbox\" ><label for=\"sk-estimator-id-15\" class=\"sk-toggleable__label sk-toggleable__label-arrow\">estimator: KNeighborsClassifier</label><div class=\"sk-toggleable__content\"><pre>KNeighborsClassifier()</pre></div></div></div><div class=\"sk-serial\"><div class=\"sk-item\"><div class=\"sk-estimator sk-toggleable\"><input class=\"sk-toggleable__control sk-hidden--visually\" id=\"sk-estimator-id-16\" type=\"checkbox\" ><label for=\"sk-estimator-id-16\" class=\"sk-toggleable__label sk-toggleable__label-arrow\">KNeighborsClassifier</label><div class=\"sk-toggleable__content\"><pre>KNeighborsClassifier()</pre></div></div></div></div></div></div></div></div></div></div>"
      ],
      "text/plain": [
       "GridSearchCV(cv=StratifiedKFold(n_splits=5, random_state=42, shuffle=True),\n",
       "             estimator=KNeighborsClassifier(), n_jobs=-1,\n",
       "             param_grid={'n_neighbors': [3, 5, 7, 9, 11, 13], 'p': [1, 2],\n",
       "                         'weights': ['uniform', 'distance']},\n",
       "             scoring='f1_macro')"
      ]
     },
     "execution_count": 43,
     "metadata": {},
     "output_type": "execute_result"
    }
   ],
   "source": [
    "grid = GridSearchCV(\n",
    "    estimator=KNeighborsClassifier(),\n",
    "    param_grid=param_grid,\n",
    "    cv=skf,\n",
    "    scoring='f1_macro',\n",
    "    n_jobs=-1\n",
    ")\n",
    "\n",
    "# Fit grid search\n",
    "grid.fit(X_train2, y_train2)"
   ]
  },
  {
   "cell_type": "code",
   "execution_count": 44,
   "metadata": {},
   "outputs": [
    {
     "name": "stdout",
     "output_type": "stream",
     "text": [
      "Best Parameters: {'n_neighbors': 3, 'p': 1, 'weights': 'distance'}\n",
      "Best F1 Score (CV): 0.9600631264197134\n"
     ]
    }
   ],
   "source": [
    "# Best model\n",
    "print(\"Best Parameters:\", grid.best_params_)\n",
    "print(\"Best F1 Score (CV):\", grid.best_score_)"
   ]
  },
  {
   "cell_type": "code",
   "execution_count": 45,
   "metadata": {},
   "outputs": [],
   "source": [
    "# Predict on test set\n",
    "best_knn = grid.best_estimator_\n",
    "y_pred2 = best_knn.predict(X_test2)\n",
    "y_proba = best_knn.predict_proba(X_test2)[:, 1]"
   ]
  },
  {
   "cell_type": "code",
   "execution_count": 46,
   "metadata": {},
   "outputs": [
    {
     "name": "stdout",
     "output_type": "stream",
     "text": [
      "\n",
      "Classification Report:\n",
      "               precision    recall  f1-score   support\n",
      "\n",
      "           0       0.98      0.94      0.96     17534\n",
      "           1       0.56      0.76      0.64      1696\n",
      "\n",
      "    accuracy                           0.93     19230\n",
      "   macro avg       0.77      0.85      0.80     19230\n",
      "weighted avg       0.94      0.93      0.93     19230\n",
      "\n"
     ]
    }
   ],
   "source": [
    "# Evaluation\n",
    "print(\"\\nClassification Report:\\n\", classification_report(y_test2, y_pred2))"
   ]
  },
  {
   "cell_type": "code",
   "execution_count": null,
   "metadata": {},
   "outputs": [],
   "source": [
    "print(\"ROC AUC Score:\", roc_auc_score(y_test2, y_proba))"
   ]
  },
  {
   "cell_type": "code",
   "execution_count": 47,
   "metadata": {},
   "outputs": [
    {
     "name": "stdout",
     "output_type": "stream",
     "text": [
      "Threshold: 0.10, F1-score: 0.5802\n",
      "Threshold: 0.15, F1-score: 0.5819\n",
      "Threshold: 0.20, F1-score: 0.5864\n",
      "Threshold: 0.25, F1-score: 0.5971\n",
      "Threshold: 0.30, F1-score: 0.6114\n",
      "Threshold: 0.35, F1-score: 0.6291\n",
      "Threshold: 0.40, F1-score: 0.6338\n",
      "Threshold: 0.45, F1-score: 0.6374\n",
      "Threshold: 0.50, F1-score: 0.6417\n",
      "Threshold: 0.55, F1-score: 0.6481\n",
      "Threshold: 0.60, F1-score: 0.6508\n",
      "Threshold: 0.65, F1-score: 0.6578\n",
      "Threshold: 0.70, F1-score: 0.6655\n",
      "Threshold: 0.75, F1-score: 0.6679\n",
      "Threshold: 0.80, F1-score: 0.6695\n",
      "Threshold: 0.85, F1-score: 0.6707\n"
     ]
    }
   ],
   "source": [
    "# Try different thresholds\n",
    "thresholds = np.arange(0.1, 0.9, 0.05)\n",
    "for t in thresholds:\n",
    "    y_thresh = (y_proba > t).astype(int)\n",
    "    print(f\"Threshold: {t:.2f}, F1-score: {f1_score(y_test2, y_thresh):.4f}\")"
   ]
  },
  {
   "cell_type": "code",
   "execution_count": 49,
   "metadata": {},
   "outputs": [],
   "source": [
    "best_thresh = 0.85\n",
    "y_pred_thresh = (y_proba > best_thresh).astype(int)"
   ]
  },
  {
   "cell_type": "code",
   "execution_count": 52,
   "metadata": {},
   "outputs": [
    {
     "name": "stdout",
     "output_type": "stream",
     "text": [
      "\n",
      "Classification Report:\n",
      "               precision    recall  f1-score   support\n",
      "\n",
      "           0       0.97      0.97      0.97     17534\n",
      "           1       0.68      0.66      0.67      1696\n",
      "\n",
      "    accuracy                           0.94     19230\n",
      "   macro avg       0.83      0.81      0.82     19230\n",
      "weighted avg       0.94      0.94      0.94     19230\n",
      "\n"
     ]
    }
   ],
   "source": [
    "print(\"\\nClassification Report:\\n\",classification_report(y_test2, y_pred_thresh))"
   ]
  },
  {
   "cell_type": "code",
   "execution_count": 53,
   "metadata": {},
   "outputs": [
    {
     "data": {
      "image/png": "[encoded data removed]",
      "text/plain": [
       "<Figure size 288x216 with 2 Axes>"
      ]
     },
     "metadata": {
      "needs_background": "light"
     },
     "output_type": "display_data"
    }
   ],
   "source": [
    "# Generate confusion matrix\n",
    "cm = confusion_matrix(y_test2, y_pred_thresh)  # or y_pred if not using threshold tuning\n",
    "\n",
    "# Plot it\n",
    "plt.figure(figsize=(4, 3))\n",
    "sns.heatmap(cm, annot=True, fmt='d', cmap='Greens', xticklabels=['No Diabetes', 'Diabetes'], yticklabels=['No Diabetes', 'Diabetes'])\n",
    "plt.xlabel('Predicted Label')\n",
    "plt.ylabel('True Label')\n",
    "plt.title('Confusion Matrix')\n",
    "plt.tight_layout()\n",
    "plt.show()"
   ]
  },
  {
   "cell_type": "code",
   "execution_count": null,
   "metadata": {},
   "outputs": [],
   "source": []
  },
  {
   "cell_type": "code",
   "execution_count": null,
   "metadata": {},
   "outputs": [],
   "source": []
  },
  {
   "cell_type": "code",
   "execution_count": null,
   "metadata": {},
   "outputs": [],
   "source": []
  }
 ],
 "metadata": {
  "kernelspec": {
   "display_name": "Python 3",
   "language": "python",
   "name": "python3"
  },
  "language_info": {
   "codemirror_mode": {
    "name": "ipython",
    "version": 3
   },
   "file_extension": ".py",
   "mimetype": "text/x-python",
   "name": "python",
   "nbconvert_exporter": "python",
   "pygments_lexer": "ipython3",
   "version": "3.8.5"
  }
 },
 "nbformat": 4,
 "nbformat_minor": 5
}
