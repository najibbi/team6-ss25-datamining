{
 "cells": [
  {
   "cell_type": "code",
   "execution_count": 5,
   "metadata": {},
   "outputs": [],
   "source": [
    "import sys\n",
    "import os\n",
    "sys.path.append(os.path.abspath('..'))\n",
    "from pre_processing import load_and_clean_data"
   ]
  },
  {
   "cell_type": "code",
   "execution_count": 10,
   "metadata": {},
   "outputs": [],
   "source": [
    "from sklearn.metrics import classification_report, confusion_matrix, ConfusionMatrixDisplay\n",
    "from sklearn.dummy import DummyClassifier\n",
    "import numpy as np\n",
    "from sklearn.metrics import classification_report\n",
    "import pandas as pd\n",
    "import matplotlib.pyplot as plt"
   ]
  },
  {
   "cell_type": "code",
   "execution_count": 19,
   "metadata": {},
   "outputs": [],
   "source": [
    "df = load_and_clean_data(\n",
    "    \"../diabetes_prediction_dataset.csv\", split=False, standardize=False)\n"
   ]
  },
  {
   "cell_type": "code",
   "execution_count": 20,
   "metadata": {},
   "outputs": [],
   "source": [
    "X = df.drop(columns=\"diabetes\")"
   ]
  },
  {
   "cell_type": "code",
   "execution_count": 21,
   "metadata": {},
   "outputs": [],
   "source": [
    "y = df[\"diabetes\"]"
   ]
  },
  {
   "cell_type": "code",
   "execution_count": 22,
   "metadata": {},
   "outputs": [],
   "source": [
    "def rule_based_classifier(X):\n",
    "    bmi_threshold = 30\n",
    "    age_threshold = 50\n",
    "    \n",
    "    # Check if the smoking history columns exist\n",
    "    risk_smoking_cols = []\n",
    "    if 'smoking_history_former' in X.columns:\n",
    "        risk_smoking_cols.append('smoking_history_former')\n",
    "    if 'smoking_history_other' in X.columns:\n",
    "        risk_smoking_cols.append('smoking_history_other')\n",
    "\n",
    "    # Combine smoking history risk conditions\n",
    "    if risk_smoking_cols:\n",
    "        smoking_risk = X[risk_smoking_cols].sum(axis=1) > 0\n",
    "    else:\n",
    "        smoking_risk = pd.Series([False] * len(X), index=X.index)\n",
    "\n",
    "    # Final rule-based prediction\n",
    "    predictions = (\n",
    "        (X[\"bmi\"] > bmi_threshold) |\n",
    "        (X[\"age\"] > age_threshold) |\n",
    "        smoking_risk\n",
    "    ).astype(int)\n",
    "\n",
    "    return predictions\n"
   ]
  },
  {
   "cell_type": "code",
   "execution_count": 26,
   "metadata": {},
   "outputs": [],
   "source": [
    "y_pred_rules = rule_based_classifier(X)"
   ]
  },
  {
   "cell_type": "code",
   "execution_count": 27,
   "metadata": {},
   "outputs": [
    {
     "name": "stdout",
     "output_type": "stream",
     "text": [
      "Rule-Based Classifier Report:\n",
      "              precision    recall  f1-score   support\n",
      "\n",
      "           0     0.9826    0.5058    0.6678     87664\n",
      "           1     0.1508    0.9073    0.2587      8482\n",
      "\n",
      "    accuracy                         0.5412     96146\n",
      "   macro avg     0.5667    0.7066    0.4632     96146\n",
      "weighted avg     0.9092    0.5412    0.6317     96146\n",
      "\n"
     ]
    }
   ],
   "source": [
    "# Evaluation\n",
    "print(\"Rule-Based Classifier Report:\")\n",
    "print(classification_report(y, y_pred_rules, digits=4))"
   ]
  },
  {
   "cell_type": "code",
   "execution_count": 28,
   "metadata": {},
   "outputs": [
    {
     "data": {
      "image/png": "[encoded data removed]",
      "text/plain": [
       "<Figure size 432x288 with 2 Axes>"
      ]
     },
     "metadata": {
      "needs_background": "light"
     },
     "output_type": "display_data"
    }
   ],
   "source": [
    "# Evaluation: confusion matrix\n",
    "cm = confusion_matrix(y, y_pred_rules)\n",
    "disp = ConfusionMatrixDisplay(confusion_matrix=cm, display_labels=[\"No Diabetes\", \"Diabetes\"])\n",
    "disp.plot(cmap=plt.cm.Blues)\n",
    "plt.title(\"Rule-Based Classifier - Confusion Matrix\")\n",
    "plt.show()"
   ]
  },
  {
   "cell_type": "code",
   "execution_count": null,
   "metadata": {},
   "outputs": [],
   "source": []
  },
  {
   "cell_type": "code",
   "execution_count": 29,
   "metadata": {},
   "outputs": [],
   "source": [
    "import pandas as pd\n",
    "import numpy as np\n",
    "from sklearn.base import BaseEstimator, ClassifierMixin\n",
    "from sklearn.model_selection import cross_val_score, StratifiedKFold\n",
    "from sklearn.metrics import f1_score, make_scorer, classification_report, confusion_matrix, ConfusionMatrixDisplay\n",
    "import matplotlib.pyplot as plt\n"
   ]
  },
  {
   "cell_type": "code",
   "execution_count": 45,
   "metadata": {},
   "outputs": [],
   "source": [
    "# Load and preprocess dataset\n",
    "df = load_and_clean_data(\"../diabetes_prediction_dataset.csv\", split=False, standardize=False)\n",
    "X = df.drop(columns=\"diabetes\")\n",
    "y = df[\"diabetes\"]"
   ]
  },
  {
   "cell_type": "code",
   "execution_count": 46,
   "metadata": {},
   "outputs": [],
   "source": [
    "# Feature names needed for rule logic\n",
    "feature_names = X.columns"
   ]
  },
  {
   "cell_type": "code",
   "execution_count": 47,
   "metadata": {},
   "outputs": [],
   "source": [
    "# Rule-based classifier wrapped in scikit-learn estimator\n",
    "class RuleBasedClassifier(BaseEstimator, ClassifierMixin):\n",
    "    def __init__(self, bmi_threshold=30, age_threshold=50):\n",
    "        self.bmi_threshold = bmi_threshold\n",
    "        self.age_threshold = age_threshold\n",
    "\n",
    "    def fit(self, X, y=None):\n",
    "        return self  # No fitting needed\n",
    "\n",
    "    def predict(self, X):\n",
    "        # Ensure X is a DataFrame with correct columns\n",
    "        if not isinstance(X, pd.DataFrame):\n",
    "            X = pd.DataFrame(X, columns=feature_names)\n",
    "\n",
    "        smoking_risk = pd.Series([False] * len(X), index=X.index)\n",
    "        if 'smoking_history_former' in X.columns or 'smoking_history_other' in X.columns:\n",
    "            smoking_risk = (\n",
    "                X.get('smoking_history_former', 0) + X.get('smoking_history_other', 0)\n",
    "            ) > 0\n",
    "\n",
    "        preds = (\n",
    "            (X[\"bmi\"] > self.bmi_threshold) |\n",
    "            (X[\"age\"] > self.age_threshold) |\n",
    "            smoking_risk\n",
    "        ).astype(int)\n",
    "\n",
    "        return preds"
   ]
  },
  {
   "cell_type": "code",
   "execution_count": 48,
   "metadata": {},
   "outputs": [],
   "source": [
    "# Create rule-based classifier instance\n",
    "rule_clf = RuleBasedClassifier()"
   ]
  },
  {
   "cell_type": "code",
   "execution_count": 49,
   "metadata": {},
   "outputs": [],
   "source": [
    "# Custom F1 scorer for the minority class (positive class = 1)\n",
    "f1_minority = make_scorer(f1_score, pos_label=1, zero_division=0)"
   ]
  },
  {
   "cell_type": "code",
   "execution_count": 50,
   "metadata": {},
   "outputs": [],
   "source": [
    "# Cross-validation setup\n",
    "cv = StratifiedKFold(n_splits=10, shuffle=True, random_state=42)"
   ]
  },
  {
   "cell_type": "code",
   "execution_count": 51,
   "metadata": {},
   "outputs": [
    {
     "name": "stderr",
     "output_type": "stream",
     "text": [
      "/Library/Frameworks/Python.framework/Versions/3.8/lib/python3.8/site-packages/sklearn/model_selection/_validation.py:839: UserWarning: Scoring failed. The score on this train-test partition for these parameters will be set to nan. Details: \n",
      "Traceback (most recent call last):\n",
      "  File \"/Library/Frameworks/Python.framework/Versions/3.8/lib/python3.8/site-packages/sklearn/metrics/_scorer.py\", line 136, in __call__\n",
      "    score = scorer._score(\n",
      "  File \"/Library/Frameworks/Python.framework/Versions/3.8/lib/python3.8/site-packages/sklearn/metrics/_scorer.py\", line 353, in _score\n",
      "    y_pred = method_caller(estimator, \"predict\", X)\n",
      "  File \"/Library/Frameworks/Python.framework/Versions/3.8/lib/python3.8/site-packages/sklearn/metrics/_scorer.py\", line 86, in _cached_call\n",
      "    result, _ = _get_response_values(\n",
      "  File \"/Library/Frameworks/Python.framework/Versions/3.8/lib/python3.8/site-packages/sklearn/utils/_response.py\", line 182, in _get_response_values\n",
      "    classes = estimator.classes_\n",
      "AttributeError: 'RuleBasedClassifier' object has no attribute 'classes_'\n",
      "\n",
      "  warnings.warn(\n"
     ]
    }
   ],
   "source": [
    "# Compute cross-validated F1 scores\n",
    "cv_scores = cross_val_score(rule_clf, X, y, scoring=f1_minority, cv=cv)"
   ]
  },
  {
   "cell_type": "code",
   "execution_count": 52,
   "metadata": {},
   "outputs": [
    {
     "name": "stdout",
     "output_type": "stream",
     "text": [
      "Cross-validated F1 scores: [nan nan nan nan nan nan nan nan nan nan]\n",
      "Mean CV F1 score: nan\n"
     ]
    }
   ],
   "source": [
    "# Output results\n",
    "print(\"Cross-validated F1 scores:\", cv_scores)\n",
    "print(\"Mean CV F1 score:\", np.mean(cv_scores))"
   ]
  },
  {
   "cell_type": "code",
   "execution_count": 39,
   "metadata": {},
   "outputs": [
    {
     "name": "stdout",
     "output_type": "stream",
     "text": [
      "\n",
      "Rule-Based Classifier Report:\n",
      "              precision    recall  f1-score   support\n",
      "\n",
      "           0     0.9826    0.5058    0.6678     87664\n",
      "           1     0.1508    0.9073    0.2587      8482\n",
      "\n",
      "    accuracy                         0.5412     96146\n",
      "   macro avg     0.5667    0.7066    0.4632     96146\n",
      "weighted avg     0.9092    0.5412    0.6317     96146\n",
      "\n"
     ]
    }
   ],
   "source": [
    "# Optional: full evaluation on entire dataset\n",
    "y_pred = rule_clf.predict(X)\n",
    "print(\"\\nRule-Based Classifier Report:\")\n",
    "print(classification_report(y, y_pred, digits=4))"
   ]
  },
  {
   "cell_type": "code",
   "execution_count": null,
   "metadata": {},
   "outputs": [],
   "source": []
  },
  {
   "cell_type": "code",
   "execution_count": null,
   "metadata": {},
   "outputs": [],
   "source": []
  },
  {
   "cell_type": "code",
   "execution_count": null,
   "metadata": {},
   "outputs": [],
   "source": []
  }
 ],
 "metadata": {
  "kernelspec": {
   "display_name": "Python 3",
   "language": "python",
   "name": "python3"
  },
  "language_info": {
   "codemirror_mode": {
    "name": "ipython",
    "version": 3
   },
   "file_extension": ".py",
   "mimetype": "text/x-python",
   "name": "python",
   "nbconvert_exporter": "python",
   "pygments_lexer": "ipython3",
   "version": "3.8.5"
  }
 },
 "nbformat": 4,
 "nbformat_minor": 4
}
