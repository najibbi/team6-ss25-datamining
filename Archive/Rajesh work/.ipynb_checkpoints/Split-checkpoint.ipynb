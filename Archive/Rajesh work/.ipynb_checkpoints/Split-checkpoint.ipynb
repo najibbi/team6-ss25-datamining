{
 "cells": [
  {
   "cell_type": "code",
   "execution_count": 8,
   "id": "9524e355-269c-4e71-9323-4cc26178cba2",
   "metadata": {},
   "outputs": [
    {
     "name": "stdout",
     "output_type": "stream",
     "text": [
      "Saved splits:\n",
      "  train.csv (57687 rows)\n",
      "  val.csv   (19229 rows)\n",
      "  test.csv  (19230 rows)\n"
     ]
    }
   ],
   "source": [
    "import pandas as pd\n",
    "from sklearn.model_selection import train_test_split\n",
    "\n",
    "# 1. Load the cleaned diabetes dataset\n",
    "df = pd.read_csv(\"featured_cleaned_diabetes_prediction_dataset.csv\")\n",
    "\n",
    "# 2. First split: 80% train_val, 20% test (stratified)\n",
    "train_val, test = train_test_split(\n",
    "    df,\n",
    "    test_size=0.20,\n",
    "    stratify=df[\"diabetes\"],\n",
    "    random_state=42\n",
    ")\n",
    "\n",
    "# 3. Second split: from the 80%, make 75% train (i.e. 60% total) and 25% val (i.e. 20% total)\n",
    "train, val = train_test_split(\n",
    "    train_val,\n",
    "    test_size=0.25,                # 0.25 * 0.80 = 0.20 of original\n",
    "    stratify=train_val[\"diabetes\"],\n",
    "    random_state=42\n",
    ")\n",
    "\n",
    "# 4. Save to CSV\n",
    "train.to_csv(\"train.csv\", index=False)\n",
    "val.to_csv(\"val.csv\",     index=False)\n",
    "test.to_csv(\"test.csv\",    index=False)\n",
    "\n",
    "print(\"Saved splits:\")\n",
    "print(f\"  train.csv ({len(train)} rows)\")\n",
    "print(f\"  val.csv   ({len(val)} rows)\")\n",
    "print(f\"  test.csv  ({len(test)} rows)\")\n"
   ]
  },
  {
   "cell_type": "code",
   "execution_count": 6,
   "id": "90f641e3-0b16-4ed2-bce9-bdbb41076a0e",
   "metadata": {},
   "outputs": [
    {
     "name": "stdout",
     "output_type": "stream",
     "text": [
      "Class distribution:\n",
      " diabetes\n",
      "0    54900\n",
      "1     5100\n",
      "Name: count, dtype: int64\n"
     ]
    }
   ],
   "source": [
    "# Check class balance\n",
    "train_df = pd.read_csv(\"train.csv\")\n",
    "print(\"Class distribution:\\n\", train_df['diabetes'].value_counts())\n"
   ]
  },
  {
   "cell_type": "code",
   "execution_count": null,
   "id": "6a36bafe-aaae-4b2d-a4d5-b5df696e8135",
   "metadata": {},
   "outputs": [],
   "source": []
  },
  {
   "cell_type": "code",
   "execution_count": null,
   "id": "ef2dd00d-4379-4045-ac8c-d5b4d96e3230",
   "metadata": {},
   "outputs": [],
   "source": []
  }
 ],
 "metadata": {
  "kernelspec": {
   "display_name": "Python 3 (ipykernel)",
   "language": "python",
   "name": "python3"
  },
  "language_info": {
   "codemirror_mode": {
    "name": "ipython",
    "version": 3
   },
   "file_extension": ".py",
   "mimetype": "text/x-python",
   "name": "python",
   "nbconvert_exporter": "python",
   "pygments_lexer": "ipython3",
   "version": "3.11.7"
  }
 },
 "nbformat": 4,
 "nbformat_minor": 5
}
