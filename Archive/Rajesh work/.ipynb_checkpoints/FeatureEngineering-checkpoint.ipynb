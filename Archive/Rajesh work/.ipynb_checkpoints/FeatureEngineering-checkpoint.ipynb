{
 "cells": [
  {
   "cell_type": "code",
   "execution_count": 1,
   "id": "c8cf9827-bd85-4788-9602-6ddd35942801",
   "metadata": {},
   "outputs": [
    {
     "name": "stdout",
     "output_type": "stream",
     "text": [
      "Processed data saved to featured_cleaned_diabetes_prediction_dataset.csv\n"
     ]
    }
   ],
   "source": [
    "# scripts/feature_engineer.py\n",
    "import pandas as pd\n",
    "from sklearn.preprocessing import StandardScaler, OneHotEncoder\n",
    "from sklearn.compose import ColumnTransformer\n",
    "\n",
    "def engineer_features(input_path, output_path):\n",
    "    df = pd.read_csv(input_path)\n",
    "    \n",
    "    # ----------------------------\n",
    "    # 1. Feature Engineering\n",
    "    # ----------------------------\n",
    "    # Example: Create interaction terms or binned features\n",
    "    # Age bins (clinically meaningful)\n",
    "    df['age_group'] = pd.cut(\n",
    "        df['age'],\n",
    "        bins=[18, 30, 45, 60, 100],\n",
    "        labels=['18-29', '30-44', '45-59', '60+']\n",
    "    )\n",
    "    \n",
    "    # BMI categories (WHO standards)\n",
    "    df['bmi_category'] = pd.cut(\n",
    "        df['bmi'],\n",
    "        bins=[0, 18.5, 25, 30, 60],\n",
    "        labels=['Underweight', 'Normal', 'Overweight', 'Obese']\n",
    "    )\n",
    "    \n",
    "    # ----------------------------\n",
    "    # 2. Encode Categorical Features\n",
    "    # ----------------------------\n",
    "    categorical_cols = ['gender', 'smoking_history', 'age_group', 'bmi_category']\n",
    "    numerical_cols = ['age', 'bmi', 'HbA1c_level', 'blood_glucose_level']\n",
    "    \n",
    "    # Use ColumnTransformer for encoding/scaling\n",
    "    preprocessor = ColumnTransformer(\n",
    "        transformers=[\n",
    "            ('num', StandardScaler(), numerical_cols),\n",
    "            ('cat', OneHotEncoder(drop='first'), categorical_cols)\n",
    "        ])\n",
    "    \n",
    "    # Fit-transform and convert to DataFrame\n",
    "    processed_data = preprocessor.fit_transform(df)\n",
    "    feature_names = preprocessor.get_feature_names_out()\n",
    "    df_processed = pd.DataFrame(processed_data, columns=feature_names)\n",
    "    \n",
    "    # Retain the target variable\n",
    "    df_processed['diabetes'] = df['diabetes']\n",
    "    \n",
    "    # Save\n",
    "    df_processed.to_csv(output_path, index=False)\n",
    "    print(f\"Processed data saved to {output_path}\")\n",
    "\n",
    "if __name__ == \"__main__\":\n",
    "    engineer_features(\n",
    "        input_path=\"cleaned_diabetes_prediction_dataset.csv\",\n",
    "        output_path=\"featured_cleaned_diabetes_prediction_dataset.csv\"\n",
    "    )"
   ]
  },
  {
   "cell_type": "code",
   "execution_count": null,
   "id": "7598c87c-3c84-4629-84b7-693e8946ea95",
   "metadata": {},
   "outputs": [],
   "source": []
  }
 ],
 "metadata": {
  "kernelspec": {
   "display_name": "Python 3 (ipykernel)",
   "language": "python",
   "name": "python3"
  },
  "language_info": {
   "codemirror_mode": {
    "name": "ipython",
    "version": 3
   },
   "file_extension": ".py",
   "mimetype": "text/x-python",
   "name": "python",
   "nbconvert_exporter": "python",
   "pygments_lexer": "ipython3",
   "version": "3.11.7"
  }
 },
 "nbformat": 4,
 "nbformat_minor": 5
}
