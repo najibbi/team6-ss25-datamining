{
 "cells": [
  {
   "cell_type": "code",
   "execution_count": 1,
   "metadata": {},
   "outputs": [],
   "source": [
    "import numpy as np\n",
    "import pandas as pd"
   ]
  },
  {
   "cell_type": "code",
   "execution_count": 2,
   "metadata": {},
   "outputs": [
    {
     "name": "stdout",
     "output_type": "stream",
     "text": [
      "\n",
      "Cleaned data saved to cleaned_diabetes_prediction_dataset.csv\n",
      "\n",
      "Missing values after cleaning:\n",
      "gender                 0\n",
      "age                    0\n",
      "hypertension           0\n",
      "heart_disease          0\n",
      "smoking_history        0\n",
      "bmi                    0\n",
      "HbA1c_level            0\n",
      "blood_glucose_level    0\n",
      "diabetes               0\n",
      "dtype: int64\n"
     ]
    }
   ],
   "source": [
    "import pandas as pd\n",
    "import numpy as np\n",
    "\n",
    "def clean_diabetes_data(input_path, output_path):\n",
    "    \"\"\"Clean diabetes dataset with domain-specific rules.\"\"\"\n",
    "    df = pd.read_csv(input_path)\n",
    "    # ----------------------------\n",
    "    # 2. Remove Duplicates\n",
    "    # ----------------------------\n",
    "    df.drop_duplicates(inplace=True)\n",
    "    \n",
    "    # ----------------------------\n",
    "    # 3. Fix Data Types & Values\n",
    "    # ----------------------------\n",
    "    # Convert binary columns to 0/1 (if stored as objects)\n",
    "    binary_cols = ['hypertension', 'heart_disease', 'diabetes']\n",
    "    for col in binary_cols:\n",
    "        if col in df.columns:\n",
    "            df[col] = df[col].astype(int)\n",
    "    \n",
    "    # Standardize categorical values\n",
    "    if 'gender' in df.columns:\n",
    "        df['gender'] = df['gender'].str.lower().replace({\n",
    "            'female': 'female', \n",
    "            'male': 'male', \n",
    "            'other': 'other', \n",
    "            'f': 'female', \n",
    "            'm': 'male'\n",
    "        })\n",
    "    \n",
    "    if 'smoking_history' in df.columns:\n",
    "        df['smoking_history'] = df['smoking_history'].replace({\n",
    "            'never': 'never',\n",
    "            'ever': 'former', \n",
    "            'former': 'former', \n",
    "            'current': 'current',\n",
    "            'not current': 'former',  # Assume \"not current\" = former smoker\n",
    "            'No Info': 'unknown'\n",
    "        })\n",
    "    \n",
    "    # ----------------------------\n",
    "    # 4. Handle Outliers (Medical Constraints)\n",
    "    # ----------------------------\n",
    "    # Age: Clip to 18-100 (assuming adults only)\n",
    "    if 'age' in df.columns:\n",
    "        df['age'] = df['age'].clip(lower=18, upper=100)\n",
    "    \n",
    "    # BMI: Valid range 12-60 (extremes unlikely)\n",
    "    if 'bmi' in df.columns:\n",
    "        df['bmi'] = df['bmi'].clip(lower=12, upper=60)\n",
    "    \n",
    "    # HbA1c: Medically plausible range 3.5-20%\n",
    "    if 'HbA1c_level' in df.columns:\n",
    "        df['HbA1c_level'] = df['HbA1c_level'].clip(lower=3.5, upper=20)\n",
    "    \n",
    "    # Blood glucose: Fasting levels typically 70-125 mg/dL (non-fasting can be higher)\n",
    "    if 'blood_glucose_level' in df.columns:\n",
    "        df['blood_glucose_level'] = df['blood_glucose_level'].clip(lower=70, upper=300)\n",
    "    \n",
    "    # ----------------------------\n",
    "    # 5. Save Cleaned Data\n",
    "    # ----------------------------\n",
    "    df.to_csv(output_path, index=False)\n",
    "    print(f\"\\nCleaned data saved to {output_path}\")\n",
    "    print(\"\\nMissing values after cleaning:\")\n",
    "    print(df.isnull().sum())\n",
    "\n",
    "if __name__ == \"__main__\":\n",
    "    clean_diabetes_data(\n",
    "        input_path=\"diabetes_prediction_dataset.csv\",  # Update with your filename\n",
    "        output_path=\"cleaned_diabetes_prediction_dataset.csv\"\n",
    "    )"
   ]
  },
  {
   "cell_type": "code",
   "execution_count": null,
   "metadata": {},
   "outputs": [],
   "source": []
  }
 ],
 "metadata": {
  "kernelspec": {
   "display_name": "Python 3",
   "language": "python",
   "name": "python3"
  },
  "language_info": {
   "codemirror_mode": {
    "name": "ipython",
    "version": 3
   },
   "file_extension": ".py",
   "mimetype": "text/x-python",
   "name": "python",
   "nbconvert_exporter": "python",
   "pygments_lexer": "ipython3",
   "version": "3.8.5"
  }
 },
 "nbformat": 4,
 "nbformat_minor": 5
}
