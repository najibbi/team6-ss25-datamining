{
 "cells": [
  {
   "cell_type": "code",
   "execution_count": 2,
   "id": "82e3e3e6",
   "metadata": {},
   "outputs": [],
   "source": [
    "import pandas as pd\n",
    "import numpy as np\n",
    "import seaborn as sns\n",
    "import matplotlib.pyplot as plt\n",
    "from sklearn.preprocessing import LabelEncoder, StandardScaler\n",
    "from sklearn.model_selection import train_test_split, GridSearchCV\n",
    "from sklearn.linear_model import LogisticRegression\n",
    "from sklearn.ensemble import RandomForestClassifier\n",
    "from xgboost import XGBClassifier\n",
    "from sklearn.metrics import accuracy_score \n",
    "from sklearn.metrics import classification_report\n",
    "from imblearn.over_sampling import SVMSMOTE"
   ]
  },
  {
   "cell_type": "code",
   "execution_count": 3,
   "id": "74c8aa25",
   "metadata": {},
   "outputs": [],
   "source": [
    "def load_and_clean_data(filepath, split=False):\n",
    "    df = pd.read_csv(filepath)\n",
    "    \n",
    "    # Remove duplicates\n",
    "    df = df.drop_duplicates()\n",
    "\n",
    "    scaler = StandardScaler()\n",
    "    df[['age', 'bmi', 'HbA1c_level', 'blood_glucose_level',]] = scaler.fit_transform(df[['age', 'bmi', 'HbA1c_level', 'blood_glucose_level',]])\n",
    "\n",
    "    # One-hot encode categorical variables\n",
    "    df = pd.get_dummies(df, columns=['gender', 'smoking_history'], drop_first=True)\n",
    "\n",
    "    # Convert boolean columns to integers\n",
    "    bool_cols = df.select_dtypes(include='bool').columns\n",
    "    df[bool_cols] = df[bool_cols].astype(int)\n",
    "    \n",
    "\n",
    "    if split:\n",
    "        x = df.drop(\"diabetes\", axis=1)\n",
    "        y = df[\"diabetes\"]\n",
    "\n",
    "        # 80/10/10 split\n",
    "        X_temp, X_test, y_temp, y_test = train_test_split(\n",
    "            x, y, test_size=0.10, stratify=y, random_state=42\n",
    "        )\n",
    "\n",
    "        val_ratio = 0.10 / 0.90  \n",
    "        X_train, X_val, y_train, y_val = train_test_split(\n",
    "            X_temp, y_temp, test_size=val_ratio, stratify=y_temp, random_state=42\n",
    "        )\n",
    "\n",
    "        #over-sampling the training data\n",
    "        svmsmote = SVMSMOTE(random_state=42)\n",
    "        X_train , y_train  = svmsmote.fit_resample(X_train, y_train)\n",
    "        return X_train, X_val, X_test, y_train, y_val, y_test\n",
    "\n",
    "    return df"
   ]
  },
  {
   "cell_type": "code",
   "execution_count": 4,
   "id": "9cc5bdff",
   "metadata": {},
   "outputs": [],
   "source": [
    "diabetes_df = load_and_clean_data(\"diabetes_prediction_dataset.csv\", False)\n",
    "x_train, x_val, x_test, y_train, y_val, y_test = load_and_clean_data(\"diabetes_prediction_dataset.csv\", True)"
   ]
  },
  {
   "cell_type": "code",
   "execution_count": 5,
   "id": "be3ab0b6",
   "metadata": {},
   "outputs": [],
   "source": [
    "xg_classifier = XGBClassifier(random_state = 42, eval_metric='logloss')\n",
    "params = {\n",
    "   'n_estimators': [20, 50, 100, 150],\n",
    "   'max_depth': [2, 6, 8, 12],\n",
    "   'learning_rate': [0.01, 0.1, 0.05]\n",
    "}\n",
    "\n",
    "xg_classifier.fit(x_train, y_train)\n",
    "\n",
    "grid = GridSearchCV(xg_classifier, params, cv=5, scoring='f1',)\n",
    "grid.fit(x_val, y_val)\n",
    "best_model = grid.best_estimator_\n",
    "y_pred = best_model.predict(x_test)\n",
    "report = classification_report(y_test, y_pred)"
   ]
  },
  {
   "cell_type": "code",
   "execution_count": 6,
   "id": "dbb86721",
   "metadata": {},
   "outputs": [
    {
     "name": "stdout",
     "output_type": "stream",
     "text": [
      "              precision    recall  f1-score   support\n",
      "\n",
      "           0       0.97      1.00      0.98      8767\n",
      "           1       0.98      0.68      0.81       848\n",
      "\n",
      "    accuracy                           0.97      9615\n",
      "   macro avg       0.98      0.84      0.89      9615\n",
      "weighted avg       0.97      0.97      0.97      9615\n",
      "\n",
      "{'learning_rate': 0.1, 'max_depth': 8, 'n_estimators': 50}\n"
     ]
    }
   ],
   "source": [
    "print(report)\n",
    "print(grid.best_params_)"
   ]
  }
 ],
 "metadata": {
  "kernelspec": {
   "display_name": "Python 3",
   "language": "python",
   "name": "python3"
  },
  "language_info": {
   "codemirror_mode": {
    "name": "ipython",
    "version": 3
   },
   "file_extension": ".py",
   "mimetype": "text/x-python",
   "name": "python",
   "nbconvert_exporter": "python",
   "pygments_lexer": "ipython3",
   "version": "3.12.3"
  }
 },
 "nbformat": 4,
 "nbformat_minor": 5
}
