{
 "cells": [
  {
   "cell_type": "markdown",
   "metadata": {},
   "source": [
    "# 🧠 Diabetes Prediction using Support Vector Machines (SVM)\n",
    "\n",
    "## 📝 Project Overview\n",
    "This project aims to predict diabetes using patient health data with Support Vector Machines (SVM). After preprocessing (including encoding, scaling, and handling class imbalance), both linear and RBF SVM models were trained. The RBF model was tuned using GridSearchCV on a 10k sample subset. Evaluation on the test set focused on F1-score and ROC AUC due to class imbalance (~9% diabetic cases). The RBF SVM achieved an F1-score of 0.61 and recall of 0.92, reducing false negatives compared to the linear SVM. Initial results show the RBF model is more effective for identifying diabetic patients, making it a strong baseline for further improvements.\n",
    "\n",
    "⚠️ *Note: This project is still in progress. Further model tweaks, feature engineering, and comparisons with other classifiers may be made to improve performance.*\n",
    "\n",
    "\n"
   ]
  },
  {
   "cell_type": "code",
   "execution_count": 1,
   "metadata": {},
   "outputs": [],
   "source": [
    "# 📦 1. Import libraries\n",
    "import pandas as pd\n",
    "import time\n",
    "import logging\n",
    "import matplotlib.pyplot as plt\n",
    "from sklearn.svm import SVC\n",
    "from sklearn.preprocessing import MinMaxScaler\n",
    "from sklearn.model_selection import train_test_split, GridSearchCV\n",
    "from sklearn.metrics import f1_score, roc_auc_score, classification_report, confusion_matrix, roc_curve\n",
    "from pre_processing import load_and_clean_data\n"
   ]
  },
  {
   "cell_type": "code",
   "execution_count": 2,
   "metadata": {},
   "outputs": [],
   "source": [
    "# 📝 2. Setup logging\n",
    "logging.basicConfig(level=logging.INFO, format='%(asctime)s - %(levelname)s - %(message)s')\n",
    "logger = logging.getLogger()"
   ]
  },
  {
   "cell_type": "code",
   "execution_count": 3,
   "metadata": {},
   "outputs": [
    {
     "name": "stderr",
     "output_type": "stream",
     "text": [
      "2025-05-13 11:52:56,893 - INFO - Loading and preprocessing dataset...\n"
     ]
    }
   ],
   "source": [
    "# 📥 3. Load and preprocess data\n",
    "logger.info(\"Loading and preprocessing dataset...\")\n",
    "X_train, X_val, X_test, y_train, y_val, y_test = load_and_clean_data(\"diabetes_prediction_dataset.csv\", split=True, standardize=False)\n"
   ]
  },
  {
   "cell_type": "code",
   "execution_count": 4,
   "metadata": {},
   "outputs": [
    {
     "name": "stderr",
     "output_type": "stream",
     "text": [
      "2025-05-13 11:52:57,183 - INFO - Scaling features...\n"
     ]
    }
   ],
   "source": [
    "# 📊 4. Feature scaling\n",
    "logger.info(\"Scaling features...\")\n",
    "scaler = MinMaxScaler()\n",
    "X_train = scaler.fit_transform(X_train)\n",
    "X_val = scaler.transform(X_val)\n",
    "X_test = scaler.transform(X_test)\n"
   ]
  },
  {
   "cell_type": "code",
   "execution_count": 5,
   "metadata": {},
   "outputs": [
    {
     "name": "stdout",
     "output_type": "stream",
     "text": [
      "Class distribution in training set:\n",
      "diabetes\n",
      "0    0.911774\n",
      "1    0.088226\n",
      "Name: proportion, dtype: float64\n"
     ]
    }
   ],
   "source": [
    "# 📏 5. Check class balance\n",
    "print(\"Class distribution in training set:\")\n",
    "print(y_train.value_counts(normalize=True))\n"
   ]
  },
  {
   "cell_type": "code",
   "execution_count": 6,
   "metadata": {},
   "outputs": [
    {
     "name": "stderr",
     "output_type": "stream",
     "text": [
      "2025-05-13 11:52:57,279 - INFO - Using subset of 10000 samples for tuning\n"
     ]
    }
   ],
   "source": [
    "# 🧪 6. Subset for fast tuning (optional)\n",
    "subset_size = 10000\n",
    "X_train_small, _, y_train_small, _ = train_test_split(\n",
    "    X_train, y_train, train_size=subset_size, stratify=y_train, random_state=42\n",
    ")\n",
    "logger.info(f\"Using subset of {subset_size} samples for tuning\")\n"
   ]
  },
  {
   "cell_type": "code",
   "execution_count": 7,
   "metadata": {},
   "outputs": [
    {
     "name": "stderr",
     "output_type": "stream",
     "text": [
      "2025-05-13 11:52:57,291 - INFO - Starting GridSearch for RBF SVM...\n"
     ]
    },
    {
     "name": "stdout",
     "output_type": "stream",
     "text": [
      "Fitting 3 folds for each of 110 candidates, totalling 330 fits\n"
     ]
    },
    {
     "name": "stderr",
     "output_type": "stream",
     "text": [
      "2025-05-13 12:00:09,724 - INFO - RBF GridSearch completed in 432.43 seconds\n",
      "2025-05-13 12:00:09,724 - INFO - Best RBF parameters: {'C': 32768, 'gamma': 0.03125}\n"
     ]
    }
   ],
   "source": [
    "# 🔍 7. GridSearchCV for RBF kernel with class_weight balanced\n",
    "param_grid_rbf = {\n",
    "    'C': [2**i for i in range(-5, 16, 2)],        \n",
    "    'gamma': [2**j for j in range(-15, 4, 2)]    \n",
    "}\n",
    "\n",
    "grid_rbf = GridSearchCV(\n",
    "    SVC(kernel='rbf', class_weight='balanced'),\n",
    "    param_grid_rbf,\n",
    "    cv=3,\n",
    "    scoring='f1',\n",
    "    verbose=2,\n",
    "    n_jobs=-1\n",
    ")\n",
    "\n",
    "logger.info(\"Starting GridSearch for RBF SVM...\")\n",
    "start = time.time()\n",
    "grid_rbf.fit(X_train_small, y_train_small)\n",
    "logger.info(\"RBF GridSearch completed in {:.2f} seconds\".format(time.time() - start))\n",
    "logger.info(f\"Best RBF parameters: {grid_rbf.best_params_}\")\n"
   ]
  },
  {
   "cell_type": "code",
   "execution_count": 8,
   "metadata": {},
   "outputs": [
    {
     "name": "stderr",
     "output_type": "stream",
     "text": [
      "2025-05-13 12:00:09,737 - INFO - Training best RBF SVM on full dataset...\n",
      "2025-05-13 12:59:10,158 - INFO - RBF training completed in 3540.42 seconds\n"
     ]
    }
   ],
   "source": [
    "# 🚀 8. Train final RBF SVM on full training set\n",
    "best_rbf = SVC(kernel='rbf',\n",
    "               C=grid_rbf.best_params_['C'],\n",
    "               gamma=grid_rbf.best_params_['gamma'],\n",
    "               class_weight='balanced',\n",
    "               probability=True)\n",
    "\n",
    "logger.info(\"Training best RBF SVM on full dataset...\")\n",
    "start = time.time()\n",
    "best_rbf.fit(X_train, y_train)\n",
    "logger.info(\"RBF training completed in {:.2f} seconds\".format(time.time() - start))\n"
   ]
  },
  {
   "cell_type": "code",
   "execution_count": 9,
   "metadata": {},
   "outputs": [
    {
     "name": "stderr",
     "output_type": "stream",
     "text": [
      "2025-05-13 12:59:10,201 - INFO - Training Linear SVM on full dataset...\n",
      "2025-05-13 13:08:24,514 - INFO - Linear SVM training completed in 554.31 seconds\n"
     ]
    }
   ],
   "source": [
    "# 🚀 9. Train Linear SVM with class_weight balanced\n",
    "svm_linear = SVC(kernel='linear', C=1.0, class_weight='balanced', probability=True, random_state=42)\n",
    "logger.info(\"Training Linear SVM on full dataset...\")\n",
    "start = time.time()\n",
    "svm_linear.fit(X_train, y_train)\n",
    "logger.info(\"Linear SVM training completed in {:.2f} seconds\".format(time.time() - start))\n"
   ]
  },
  {
   "cell_type": "code",
   "execution_count": 10,
   "metadata": {},
   "outputs": [
    {
     "name": "stdout",
     "output_type": "stream",
     "text": [
      "=== Linear SVM ===\n",
      "F1 Score: 0.5875486381322957\n",
      "ROC AUC: 0.9667443280010158\n",
      "Confusion Matrix:\n",
      " [[7800  967]\n",
      " [  93  755]]\n",
      "\n",
      "Classification Report:\n",
      "               precision    recall  f1-score   support\n",
      "\n",
      "           0       0.99      0.89      0.94      8767\n",
      "           1       0.44      0.89      0.59       848\n",
      "\n",
      "    accuracy                           0.89      9615\n",
      "   macro avg       0.71      0.89      0.76      9615\n",
      "weighted avg       0.94      0.89      0.91      9615\n",
      "\n",
      "\n",
      "=== RBF SVM ===\n",
      "F1 Score: 0.6029526029526029\n",
      "ROC AUC: 0.9699404095762194\n",
      "Confusion Matrix:\n",
      " [[7817  950]\n",
      " [  72  776]]\n",
      "\n",
      "Classification Report:\n",
      "               precision    recall  f1-score   support\n",
      "\n",
      "           0       0.99      0.89      0.94      8767\n",
      "           1       0.45      0.92      0.60       848\n",
      "\n",
      "    accuracy                           0.89      9615\n",
      "   macro avg       0.72      0.90      0.77      9615\n",
      "weighted avg       0.94      0.89      0.91      9615\n",
      "\n"
     ]
    }
   ],
   "source": [
    "# ✅ 10. Evaluate both models\n",
    "y_pred_linear = svm_linear.predict(X_test)\n",
    "y_pred_rbf = best_rbf.predict(X_test)\n",
    "\n",
    "y_score_linear = svm_linear.decision_function(X_test)\n",
    "y_score_rbf = best_rbf.decision_function(X_test)\n",
    "\n",
    "print(\"=== Linear SVM ===\")\n",
    "print(\"F1 Score:\", f1_score(y_test, y_pred_linear))\n",
    "print(\"ROC AUC:\", roc_auc_score(y_test, y_score_linear))\n",
    "print(\"Confusion Matrix:\\n\", confusion_matrix(y_test, y_pred_linear))\n",
    "print(\"\\nClassification Report:\\n\", classification_report(y_test, y_pred_linear))\n",
    "\n",
    "print(\"\\n=== RBF SVM ===\")\n",
    "print(\"F1 Score:\", f1_score(y_test, y_pred_rbf))\n",
    "print(\"ROC AUC:\", roc_auc_score(y_test, y_score_rbf))\n",
    "print(\"Confusion Matrix:\\n\", confusion_matrix(y_test, y_pred_rbf))\n",
    "print(\"\\nClassification Report:\\n\", classification_report(y_test, y_pred_rbf))\n"
   ]
  }
 ],
 "metadata": {
  "kernelspec": {
   "display_name": "Python 3",
   "language": "python",
   "name": "python3"
  },
  "language_info": {
   "codemirror_mode": {
    "name": "ipython",
    "version": 3
   },
   "file_extension": ".py",
   "mimetype": "text/x-python",
   "name": "python",
   "nbconvert_exporter": "python",
   "pygments_lexer": "ipython3",
   "version": "3.8.5"
  }
 },
 "nbformat": 4,
 "nbformat_minor": 5
}
