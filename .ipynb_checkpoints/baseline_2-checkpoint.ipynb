{
 "cells": [
  {
   "cell_type": "code",
   "execution_count": 55,
   "metadata": {},
   "outputs": [],
   "source": [
    "from sklearn.metrics import classification_report, confusion_matrix, ConfusionMatrixDisplay\n",
    "from sklearn.dummy import DummyClassifier\n",
    "from pre_processing import load_and_clean_data"
   ]
  },
  {
   "cell_type": "code",
   "execution_count": 56,
   "metadata": {},
   "outputs": [],
   "source": [
    "import numpy as np\n",
    "from sklearn.metrics import classification_report\n",
    "import pandas as pd\n",
    "import matplotlib.pyplot as plt"
   ]
  },
  {
   "cell_type": "code",
   "execution_count": 62,
   "metadata": {},
   "outputs": [],
   "source": [
    "df = load_and_clean_data(\"diabetes_prediction_dataset.csv\", split=False)\n",
    "feature_columns = df.drop(\"diabetes\", axis=1).columns"
   ]
  },
  {
   "cell_type": "code",
   "execution_count": 63,
   "metadata": {},
   "outputs": [],
   "source": [
    "X_val_df = pd.DataFrame(X_val, columns=feature_columns)"
   ]
  },
  {
   "cell_type": "code",
   "execution_count": 64,
   "metadata": {},
   "outputs": [],
   "source": [
    "def rule_based_classifier(X):\n",
    "    # Customize these thresholds as needed\n",
    "    bmi_threshold = 30        # Obesity threshold\n",
    "    age_threshold = 50        # Age over 50\n",
    "    smoke_columns = [col for col in X.columns if 'smoking_history' in col]\n",
    "    \n",
    "    # Predict 1 (diabetic) if any of these risk factors are met\n",
    "    predictions = (\n",
    "        (X[\"bmi\"] > bmi_threshold) |\n",
    "        (X[\"age\"] > age_threshold) |\n",
    "        (X[\"smoking_history\"] == \"Other\")\n",
    "    ).astype(int)\n",
    "    \n",
    "    return predictions"
   ]
  },
  {
   "cell_type": "code",
   "execution_count": 65,
   "metadata": {},
   "outputs": [
    {
     "name": "stdout",
     "output_type": "stream",
     "text": [
      "Rule-Based Classifier Report:\n",
      "              precision    recall  f1-score   support\n",
      "\n",
      "           0     0.9543    0.3523    0.5147      8767\n",
      "           1     0.1098    0.8255    0.1937       848\n",
      "\n",
      "    accuracy                         0.3941      9615\n",
      "   macro avg     0.5320    0.5889    0.3542      9615\n",
      "weighted avg     0.8798    0.3941    0.4864      9615\n",
      "\n"
     ]
    }
   ],
   "source": [
    "print(\"Rule-Based Classifier Report:\")\n",
    "print(classification_report(y_val, y_pred_rules, digits=4))"
   ]
  },
  {
   "cell_type": "code",
   "execution_count": 66,
   "metadata": {},
   "outputs": [
    {
     "data": {
      "image/png": "[encoded data removed]",
      "text/plain": [
       "<Figure size 432x288 with 2 Axes>"
      ]
     },
     "metadata": {
      "needs_background": "light"
     },
     "output_type": "display_data"
    }
   ],
   "source": [
    "cm = confusion_matrix(y_val, y_pred_rules)\n",
    "disp = ConfusionMatrixDisplay(confusion_matrix=cm, display_labels=[0, 1])\n",
    "disp.plot(cmap=\"Blues\", values_format=\"d\")\n",
    "plt.title(\"Confusion Matrix: Rule-Based Classifier\")\n",
    "plt.show()"
   ]
  },
  {
   "cell_type": "code",
   "execution_count": null,
   "metadata": {},
   "outputs": [],
   "source": []
  }
 ],
 "metadata": {
  "kernelspec": {
   "display_name": "Python 3",
   "language": "python",
   "name": "python3"
  },
  "language_info": {
   "codemirror_mode": {
    "name": "ipython",
    "version": 3
   },
   "file_extension": ".py",
   "mimetype": "text/x-python",
   "name": "python",
   "nbconvert_exporter": "python",
   "pygments_lexer": "ipython3",
   "version": "3.8.5"
  }
 },
 "nbformat": 4,
 "nbformat_minor": 4
}
