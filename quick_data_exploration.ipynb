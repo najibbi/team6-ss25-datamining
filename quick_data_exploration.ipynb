{
 "cells": [
  {
   "cell_type": "code",
   "execution_count": 16,
   "metadata": {},
   "outputs": [],
   "source": [
    "import pandas as pd\n",
    "import numpy as np\n",
    "import seaborn as sns\n",
    "import matplotlib.pyplot as plt\n",
    "from scipy.stats import zscore, median_abs_deviation"
   ]
  },
  {
   "cell_type": "code",
   "execution_count": 2,
   "metadata": {},
   "outputs": [],
   "source": [
    "df = pd.read_csv(\"diabetes_prediction_dataset.csv\")"
   ]
  },
  {
   "cell_type": "code",
   "execution_count": 3,
   "metadata": {},
   "outputs": [
    {
     "name": "stdout",
     "output_type": "stream",
     "text": [
      "Outliner number:  {'age': 0, 'bmi': 7086, 'HbA1c_level': 1315, 'blood_glucose_level': 2038}\n",
      "Outliner proportion:  {'age': 0.0, 'bmi': 7.086, 'HbA1c_level': 1.315, 'blood_glucose_level': 2.038}\n"
     ]
    }
   ],
   "source": [
    "numeric_cols = ['age','bmi','HbA1c_level','blood_glucose_level']\n",
    "outlier_counts = {}\n",
    "\n",
    "for col in numeric_cols:\n",
    "    Q1 = df[col].quantile(0.25)\n",
    "    Q3 = df[col].quantile(0.75)\n",
    "    IQR = Q3 - Q1\n",
    "    lower = Q1 - 1.5 * IQR\n",
    "    upper = Q3 + 1.5 * IQR\n",
    "    mask = (df[col] < lower) | (df[col] > upper)\n",
    "    outlier_counts[col] = mask.sum()\n",
    "\n",
    "print(\"Outliner number: \", outlier_counts)\n",
    "print(\"Outliner proportion: \", {col:cnt/len(df)*100  for col,cnt in outlier_counts.items()})"
   ]
  },
  {
   "cell_type": "code",
   "execution_count": 21,
   "metadata": {},
   "outputs": [
    {
     "name": "stdout",
     "output_type": "stream",
     "text": [
      "age: 0.00% outliers\n",
      "bmi: 7.09% outliers\n",
      "HbA1c_level: 1.31% outliers\n",
      "blood_glucose_level: 2.04% outliers\n"
     ]
    }
   ],
   "source": [
    "outlier_percentages = {}\n",
    "\n",
    "for col in numeric_cols:\n",
    "    col_flag = f'{col}_iqr_outlier'\n",
    "    outlier_count = outlier_flags[col_flag].sum()\n",
    "    percent = (outlier_count / len(df)) * 100\n",
    "    outlier_percentages[col] = percent\n",
    "\n",
    "# Display nicely\n",
    "for col, pct in outlier_percentages.items():\n",
    "    print(f\"{col}: {pct:.2f}% outliers\")\n"
   ]
  },
  {
   "cell_type": "code",
   "execution_count": 26,
   "metadata": {},
   "outputs": [
    {
     "data": {
      "image/png": "[encoded data removed]",
      "text/plain": [
       "<Figure size 576x432 with 1 Axes>"
      ]
     },
     "metadata": {
      "needs_background": "light"
     },
     "output_type": "display_data"
    }
   ],
   "source": [
    "\n",
    "# Your existing percentages\n",
    "outlier_percentages = {\n",
    "    'age': 0.00,\n",
    "    'bmi': 7.09,\n",
    "    'HbA1c_level': 1.31,\n",
    "    'blood_glucose_level': 2.04\n",
    "}\n",
    "\n",
    "# Compute non-outlier percentages\n",
    "visual_df = pd.DataFrame({\n",
    "    'Feature': list(outlier_percentages.keys()),\n",
    "    'Outlier': list(outlier_percentages.values())\n",
    "})\n",
    "visual_df['Non-Outlier'] = 100 - visual_df['Outlier']\n",
    "\n",
    "# Melt for plotting\n",
    "plot_df = visual_df.melt(id_vars='Feature', value_vars=['Outlier', 'Non-Outlier'],\n",
    "                         var_name='Type', value_name='Percentage')\n",
    "\n",
    "# Define color map\n",
    "palette = {'Outlier': 'red', 'Non-Outlier': 'blue'}\n",
    "\n",
    "# Plot\n",
    "plt.figure(figsize=(8, 6))\n",
    "sns.barplot(data=plot_df, x='Feature', y='Percentage', hue='Type', palette=palette)\n",
    "plt.title(\"Outliers vs Non-Outliers (%) by Feature\")\n",
    "plt.ylabel(\"Percentage\")\n",
    "plt.ylim(0, 100)\n",
    "plt.grid(axis='y', linestyle='--', alpha=0.6)\n",
    "\n",
    "# Move legend to the right\n",
    "plt.legend(title=\"\", loc='center left', bbox_to_anchor=(1.0, 0.5))\n",
    "\n",
    "plt.tight_layout()\n",
    "plt.show()\n"
   ]
  },
  {
   "cell_type": "code",
   "execution_count": null,
   "metadata": {},
   "outputs": [],
   "source": []
  },
  {
   "cell_type": "code",
   "execution_count": null,
   "metadata": {},
   "outputs": [],
   "source": []
  },
  {
   "cell_type": "code",
   "execution_count": null,
   "metadata": {},
   "outputs": [],
   "source": []
  }
 ],
 "metadata": {
  "kernelspec": {
   "display_name": "Python 3",
   "language": "python",
   "name": "python3"
  },
  "language_info": {
   "codemirror_mode": {
    "name": "ipython",
    "version": 3
   },
   "file_extension": ".py",
   "mimetype": "text/x-python",
   "name": "python",
   "nbconvert_exporter": "python",
   "pygments_lexer": "ipython3",
   "version": "3.8.5"
  }
 },
 "nbformat": 4,
 "nbformat_minor": 4
}
