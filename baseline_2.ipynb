{
 "cells": [
  {
   "cell_type": "code",
   "execution_count": 1,
   "metadata": {},
   "outputs": [],
   "source": [
    "from sklearn.metrics import classification_report, confusion_matrix, ConfusionMatrixDisplay\n",
    "from sklearn.dummy import DummyClassifier\n",
    "from pre_processing import load_and_clean_data"
   ]
  },
  {
   "cell_type": "code",
   "execution_count": 2,
   "metadata": {},
   "outputs": [],
   "source": [
    "import numpy as np\n",
    "from sklearn.metrics import classification_report\n",
    "import pandas as pd\n",
    "import matplotlib.pyplot as plt"
   ]
  },
  {
   "cell_type": "code",
   "execution_count": 19,
   "metadata": {},
   "outputs": [],
   "source": [
    "df = load_and_clean_data(\"diabetes_prediction_dataset.csv\", split=False, standardize=False)\n",
    "feature_columns = df.drop(\"diabetes\", axis=1).columns"
   ]
  },
  {
   "cell_type": "code",
   "execution_count": 24,
   "metadata": {},
   "outputs": [],
   "source": [
    "X_val_df = pd.DataFrame(X_val, columns=feature_columns)"
   ]
  },
  {
   "cell_type": "code",
   "execution_count": 25,
   "metadata": {},
   "outputs": [
    {
     "name": "stdout",
     "output_type": "stream",
     "text": [
      "['age', 'hypertension', 'heart_disease', 'bmi', 'HbA1c_level', 'blood_glucose_level', 'gender_Male', 'gender_Other', 'smoking_history_current', 'smoking_history_ever', 'smoking_history_former', 'smoking_history_never', 'smoking_history_not current']\n"
     ]
    }
   ],
   "source": [
    "print(X_val_df.columns.tolist())"
   ]
  },
  {
   "cell_type": "code",
   "execution_count": 26,
   "metadata": {},
   "outputs": [],
   "source": [
    "def rule_based_classifier(X):\n",
    "    bmi_threshold = 30\n",
    "    age_threshold = 50\n",
    "    \n",
    "    # Check if the smoking history columns exist\n",
    "    risk_smoking_cols = []\n",
    "    if 'smoking_history_former' in X.columns:\n",
    "        risk_smoking_cols.append('smoking_history_former')\n",
    "    if 'smoking_history_other' in X.columns:\n",
    "        risk_smoking_cols.append('smoking_history_other')\n",
    "\n",
    "    # Combine smoking history risk conditions\n",
    "    if risk_smoking_cols:\n",
    "        smoking_risk = X[risk_smoking_cols].sum(axis=1) > 0\n",
    "    else:\n",
    "        smoking_risk = pd.Series([False] * len(X), index=X.index)\n",
    "\n",
    "    # Final rule-based prediction\n",
    "    predictions = (\n",
    "        (X[\"bmi\"] > bmi_threshold) |\n",
    "        (X[\"age\"] > age_threshold) |\n",
    "        smoking_risk\n",
    "    ).astype(int)\n",
    "\n",
    "    return predictions\n"
   ]
  },
  {
   "cell_type": "code",
   "execution_count": 27,
   "metadata": {},
   "outputs": [
    {
     "name": "stdout",
     "output_type": "stream",
     "text": [
      "Rule-Based Classifier Report:\n",
      "              precision    recall  f1-score   support\n",
      "\n",
      "           0     0.9836    0.5009    0.6637      8767\n",
      "           1     0.1505    0.9139    0.2584       848\n",
      "\n",
      "    accuracy                         0.5373      9615\n",
      "   macro avg     0.5671    0.7074    0.4611      9615\n",
      "weighted avg     0.9102    0.5373    0.6280      9615\n",
      "\n"
     ]
    }
   ],
   "source": [
    "# Generate predictions using the rule-based classifier\n",
    "y_pred_rules = rule_based_classifier(X_val_df)\n",
    "\n",
    "print(\"Rule-Based Classifier Report:\")\n",
    "print(classification_report(y_val, y_pred_rules, digits=4))\n"
   ]
  },
  {
   "cell_type": "code",
   "execution_count": 28,
   "metadata": {},
   "outputs": [
    {
     "data": {
      "image/png": "[encoded data removed]",
      "text/plain": [
       "<Figure size 432x288 with 2 Axes>"
      ]
     },
     "metadata": {
      "needs_background": "light"
     },
     "output_type": "display_data"
    }
   ],
   "source": [
    "cm = confusion_matrix(y_val, y_pred_rules)\n",
    "disp = ConfusionMatrixDisplay(confusion_matrix=cm, display_labels=[0, 1])\n",
    "disp.plot(cmap=\"Blues\", values_format=\"d\")\n",
    "plt.title(\"Confusion Matrix: Rule-Based Classifier\")\n",
    "plt.show()"
   ]
  },
  {
   "cell_type": "code",
   "execution_count": null,
   "metadata": {},
   "outputs": [],
   "source": []
  }
 ],
 "metadata": {
  "kernelspec": {
   "display_name": "Python 3",
   "language": "python",
   "name": "python3"
  },
  "language_info": {
   "codemirror_mode": {
    "name": "ipython",
    "version": 3
   },
   "file_extension": ".py",
   "mimetype": "text/x-python",
   "name": "python",
   "nbconvert_exporter": "python",
   "pygments_lexer": "ipython3",
   "version": "3.8.5"
  }
 },
 "nbformat": 4,
 "nbformat_minor": 4
}
